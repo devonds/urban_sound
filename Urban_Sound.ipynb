{
 "cells": [
  {
   "cell_type": "markdown",
   "metadata": {},
   "source": [
    "The challenge is to classify urban sounds from 4-second sound files. There are 10 possible classifications. The dataset provided includes 8729 training examples and 8731 unlabled sound files for testing. I like this problem because I'm a bit of an audiophile, and I want to try my hand at a neural network. \n",
    "\n",
    "I'll train a neural network to classify the sounds. First, I'll use the librosa library to load in the audio files and extract features (the different distinct frequencies in the audio file).  Then, I'll encode the labels using scikit-learn's LabelEncoder().  I'll use Keras to build model, keeping it as simple as possible for now (3 layers, using standard paramaters). Then I will evaluate the model using the test data set.   "
   ]
  },
  {
   "cell_type": "markdown",
   "metadata": {},
   "source": [
    "##Loading and encoding data. \n",
    "I'll install librosa (for dealing with audio files) and import libraries, then load data. "
   ]
  },
  {
   "cell_type": "code",
   "execution_count": 321,
   "metadata": {},
   "outputs": [],
   "source": [
    "import os\n",
    "import pandas as pd\n",
    "import numpy as np\n",
    "import matplotlib.pyplot as plt\n",
    "import librosa"
   ]
  },
  {
   "cell_type": "code",
   "execution_count": 23,
   "metadata": {},
   "outputs": [],
   "source": [
    "train = pd.read_csv('data/train.csv')\n",
    "test = pd.read_csv('data/test.csv')"
   ]
  },
  {
   "cell_type": "code",
   "execution_count": 24,
   "metadata": {},
   "outputs": [
    {
     "data": {
      "text/html": [
       "<div>\n",
       "<style scoped>\n",
       "    .dataframe tbody tr th:only-of-type {\n",
       "        vertical-align: middle;\n",
       "    }\n",
       "\n",
       "    .dataframe tbody tr th {\n",
       "        vertical-align: top;\n",
       "    }\n",
       "\n",
       "    .dataframe thead th {\n",
       "        text-align: right;\n",
       "    }\n",
       "</style>\n",
       "<table border=\"1\" class=\"dataframe\">\n",
       "  <thead>\n",
       "    <tr style=\"text-align: right;\">\n",
       "      <th></th>\n",
       "      <th>ID</th>\n",
       "      <th>Class</th>\n",
       "    </tr>\n",
       "  </thead>\n",
       "  <tbody>\n",
       "    <tr>\n",
       "      <td>0</td>\n",
       "      <td>0</td>\n",
       "      <td>siren</td>\n",
       "    </tr>\n",
       "    <tr>\n",
       "      <td>1</td>\n",
       "      <td>1</td>\n",
       "      <td>street_music</td>\n",
       "    </tr>\n",
       "    <tr>\n",
       "      <td>2</td>\n",
       "      <td>2</td>\n",
       "      <td>drilling</td>\n",
       "    </tr>\n",
       "    <tr>\n",
       "      <td>3</td>\n",
       "      <td>3</td>\n",
       "      <td>siren</td>\n",
       "    </tr>\n",
       "    <tr>\n",
       "      <td>4</td>\n",
       "      <td>4</td>\n",
       "      <td>dog_bark</td>\n",
       "    </tr>\n",
       "  </tbody>\n",
       "</table>\n",
       "</div>"
      ],
      "text/plain": [
       "   ID         Class\n",
       "0   0         siren\n",
       "1   1  street_music\n",
       "2   2      drilling\n",
       "3   3         siren\n",
       "4   4      dog_bark"
      ]
     },
     "execution_count": 24,
     "metadata": {},
     "output_type": "execute_result"
    }
   ],
   "source": [
    "train.head()"
   ]
  },
  {
   "cell_type": "code",
   "execution_count": 25,
   "metadata": {},
   "outputs": [
    {
     "data": {
      "text/plain": [
       "jackhammer          668\n",
       "engine_idling       624\n",
       "siren               607\n",
       "dog_bark            600\n",
       "street_music        600\n",
       "air_conditioner     600\n",
       "drilling            600\n",
       "children_playing    600\n",
       "car_horn            306\n",
       "gun_shot            230\n",
       "Name: Class, dtype: int64"
      ]
     },
     "execution_count": 25,
     "metadata": {},
     "output_type": "execute_result"
    }
   ],
   "source": [
    "train.Class.value_counts()"
   ]
  },
  {
   "cell_type": "markdown",
   "metadata": {},
   "source": [
    "We have about 600 examples of most sound types, about half that of car horn recordings, and about a third that of gun shots. "
   ]
  },
  {
   "cell_type": "markdown",
   "metadata": {},
   "source": [
    "Now we will load the audio files using librosa.  I'll define a function that will allow me to apply the data to a data frame with the IDs and labels. \n",
    "\n",
    "Some explanation of the choices for processing audio data: \n",
    "1. Setting res_type to kaiser_fast speeds up loading the data, at a loss of quality. \n",
    "2. MFCC stands for Mel-frequency cepstral coefficients, it is a technique for extrating features based on frequency from the raw adio data. \n",
    "3. librosa.load returns a matrix (technically an mumpy.ndarray of size (n_mfcc, T) where T denotes the track duration in frames)."
   ]
  },
  {
   "cell_type": "code",
   "execution_count": 344,
   "metadata": {},
   "outputs": [],
   "source": [
    "data_dir = 'data/Train'\n",
    "\n",
    "def parse_sound(row):\n",
    "\n",
    "    file_name = os.path.join(data_dir, str(row.ID) + '.wav')\n",
    "\n",
    "    try:\n",
    "        y_audio, sample_rate = librosa.load(file_name, res_type='kaiser_fast') \n",
    "        mfccs = np.mean(librosa.feature.mfcc(y=y_audio, sr=sample_rate, n_mfcc=40).T,axis=0) \n",
    "    except Exception as e:\n",
    "        print(\"Error while parsing file: \", file)\n",
    "        return None\n",
    "  \n",
    "    return mfccs"
   ]
  },
  {
   "cell_type": "markdown",
   "metadata": {},
   "source": [
    "I want to get a visual confirmation of what this function does.  So, "
   ]
  },
  {
   "cell_type": "code",
   "execution_count": 184,
   "metadata": {
    "scrolled": true
   },
   "outputs": [
    {
     "data": {
      "text/plain": [
       "array([-7.5095695e+01,  1.2961186e+02, -3.2669899e+01,  1.5285441e+01,\n",
       "       -2.3782072e+00,  1.4626383e+01, -3.7646337e+00,  1.7962053e+01,\n",
       "       -2.0119922e+00,  1.4395791e+01, -1.1574688e+00,  8.6595840e+00,\n",
       "       -3.7047443e+00,  3.3922620e+00, -6.3679357e+00,  8.1460260e-02,\n",
       "       -8.7272234e+00,  6.9419968e-01, -5.4218426e+00,  2.7331510e+00,\n",
       "       -1.5587350e+00,  1.5997877e+00, -2.7055860e+00,  4.3276987e+00,\n",
       "       -2.0708835e+00,  4.9955597e+00, -1.8933897e+00, -2.1113320e-01,\n",
       "       -4.2716827e+00,  1.5992585e+00, -3.1662819e+00,  1.9053738e+00,\n",
       "       -3.3244791e+00,  8.2804763e-01, -2.8830101e+00,  1.4041675e+00,\n",
       "       -1.0563265e+00,  1.2371618e+00, -4.3638902e+00,  7.2084457e-01],\n",
       "      dtype=float32)"
      ]
     },
     "execution_count": 184,
     "metadata": {},
     "output_type": "execute_result"
    }
   ],
   "source": [
    "y_audio, sample_rate = librosa.load(os.path.join('data/Train', '0.wav'))\n",
    "mfcc = np.mean(librosa.feature.mfcc(y=y_audio, sr=sample_rate, n_mfcc=40).T, axis=0)\n",
    "mfcc"
   ]
  },
  {
   "cell_type": "markdown",
   "metadata": {},
   "source": [
    "These outputs are numerical values for each feature (think of the raw audio as what you hear from a whole choir, and the features are the a representation of each singer's voice for a given time interval, here, 1/10 of a second. It's really pulling out sound waves at different frequencies). \n",
    "\n",
    "Numerical values are our input to the ML model! It's just like the numerical representation of light intensity of a given color in a given pixel, in the context of computer vision.  "
   ]
  },
  {
   "cell_type": "markdown",
   "metadata": {},
   "source": [
    "Join the extracted feature data to the ID and label data. This takes a while... "
   ]
  },
  {
   "cell_type": "code",
   "execution_count": 186,
   "metadata": {},
   "outputs": [],
   "source": [
    "ttrain = train\n",
    "ttrain['mfccs'] = ttrain.apply(parse_sound, axis=1)"
   ]
  },
  {
   "cell_type": "code",
   "execution_count": 188,
   "metadata": {
    "scrolled": false
   },
   "outputs": [
    {
     "data": {
      "text/html": [
       "<div>\n",
       "<style scoped>\n",
       "    .dataframe tbody tr th:only-of-type {\n",
       "        vertical-align: middle;\n",
       "    }\n",
       "\n",
       "    .dataframe tbody tr th {\n",
       "        vertical-align: top;\n",
       "    }\n",
       "\n",
       "    .dataframe thead th {\n",
       "        text-align: right;\n",
       "    }\n",
       "</style>\n",
       "<table border=\"1\" class=\"dataframe\">\n",
       "  <thead>\n",
       "    <tr style=\"text-align: right;\">\n",
       "      <th></th>\n",
       "      <th>ID</th>\n",
       "      <th>Class</th>\n",
       "      <th>mfccs</th>\n",
       "    </tr>\n",
       "  </thead>\n",
       "  <tbody>\n",
       "    <tr>\n",
       "      <td>0</td>\n",
       "      <td>0</td>\n",
       "      <td>siren</td>\n",
       "      <td>[-82.12359, 139.50595, -42.430847, 24.82786, -...</td>\n",
       "    </tr>\n",
       "    <tr>\n",
       "      <td>1</td>\n",
       "      <td>1</td>\n",
       "      <td>street_music</td>\n",
       "      <td>[-15.744001, 124.11996, -29.42888, 39.44719, -...</td>\n",
       "    </tr>\n",
       "    <tr>\n",
       "      <td>2</td>\n",
       "      <td>2</td>\n",
       "      <td>drilling</td>\n",
       "      <td>[-123.393654, 15.181944, -50.093338, 7.141871,...</td>\n",
       "    </tr>\n",
       "    <tr>\n",
       "      <td>3</td>\n",
       "      <td>3</td>\n",
       "      <td>siren</td>\n",
       "      <td>[-213.2787, 89.323616, -55.256165, 12.632097, ...</td>\n",
       "    </tr>\n",
       "    <tr>\n",
       "      <td>4</td>\n",
       "      <td>4</td>\n",
       "      <td>dog_bark</td>\n",
       "      <td>[-237.9265, 135.90247, 39.26844, 21.24023, 9.5...</td>\n",
       "    </tr>\n",
       "  </tbody>\n",
       "</table>\n",
       "</div>"
      ],
      "text/plain": [
       "   ID         Class                                              mfccs\n",
       "0   0         siren  [-82.12359, 139.50595, -42.430847, 24.82786, -...\n",
       "1   1  street_music  [-15.744001, 124.11996, -29.42888, 39.44719, -...\n",
       "2   2      drilling  [-123.393654, 15.181944, -50.093338, 7.141871,...\n",
       "3   3         siren  [-213.2787, 89.323616, -55.256165, 12.632097, ...\n",
       "4   4      dog_bark  [-237.9265, 135.90247, 39.26844, 21.24023, 9.5..."
      ]
     },
     "execution_count": 188,
     "metadata": {},
     "output_type": "execute_result"
    }
   ],
   "source": [
    "ttrain = ttrain[['ID', 'Class', 'mfccs']]\n",
    "ttrain.head()"
   ]
  },
  {
   "cell_type": "markdown",
   "metadata": {},
   "source": [
    "unresolved question: are these normally distributed? do they need normalization? do they need regularization? --adress this in next version"
   ]
  },
  {
   "cell_type": "code",
   "execution_count": 100,
   "metadata": {},
   "outputs": [],
   "source": []
  },
  {
   "cell_type": "markdown",
   "metadata": {},
   "source": [
    "Set the mfcc data to X, labels to y, test mfcc data to test_X.  One-hot encode labels using LebelBinarizer. "
   ]
  },
  {
   "cell_type": "code",
   "execution_count": 395,
   "metadata": {},
   "outputs": [
    {
     "name": "stdout",
     "output_type": "stream",
     "text": [
      "y shape:  (5435, 10)\n",
      "y classes detected:  ['air_conditioner' 'car_horn' 'children_playing' 'dog_bark' 'drilling'\n",
      " 'engine_idling' 'gun_shot' 'jackhammer' 'siren' 'street_music']\n",
      "[[0 0 0 0 0 0 0 0 1 0]\n",
      " [0 0 0 0 0 0 0 0 0 1]\n",
      " [0 0 0 0 1 0 0 0 0 0]\n",
      " [0 0 0 0 0 0 0 0 1 0]\n",
      " [0 0 0 1 0 0 0 0 0 0]]\n"
     ]
    }
   ],
   "source": [
    "from sklearn import preprocessing\n",
    "\n",
    "X = np.array(ttrain['mfccs'])\n",
    "# turns out I have to convert this from an array of objects to an array of arrays to have the right shape\n",
    "X = np.vstack(X)\n",
    "y = np.array(ttrain['Class'])\n",
    "\n",
    "# encode labels as numbers\n",
    "lb = preprocessing.LabelBinarizer()\n",
    "y = lb.fit_transform(y)\n",
    "classes = lb.classes_\n",
    "\n",
    "print('y shape: ', y.shape)\n",
    "print('y classes detected: ', classes)\n",
    "print(y[0:5])"
   ]
  },
  {
   "cell_type": "markdown",
   "metadata": {},
   "source": [
    "##construct a neural network model!\n",
    "\n",
    "Notes on hyperparameter choice:\n",
    "1. 4 layers, one input, two hidden, one output. \n",
    "2. Input layer shape is 40 because thre are 40 mel-frequency cepstral coeficients, one for each tenth of a second, in each sound file.  Output layer shape is 10 because there are 10 possible labels (i've one-hot encoded the values).  The hidden layers are set to 100 at start because it seems like a good number? (a next step is to grid search for optimum hyperparameters). \n",
    "3. Activation = relu in the first two layers, Activation = softmax for output layer because thats what we need for multi-class classification.  All outputs sum to 1. \n",
    "4. Set dropout to 0.2 at start\n",
    "5. optimizer Adam seems to have good results in the literature. Learning rate defaults to 0.001, which seems good to start. I understand it (roughly) as stochastic gradient desent + a stochastic element based on "
   ]
  },
  {
   "cell_type": "code",
   "execution_count": 371,
   "metadata": {},
   "outputs": [],
   "source": [
    "from keras.models import Sequential\n",
    "from keras.layers import Dense, Dropout, Activation, Flatten\n",
    "from keras.layers import Convolution2D, MaxPooling2D\n",
    "from keras.optimizers import Adam\n",
    "from keras.utils import np_utils\n",
    "from sklearn import metrics \n",
    "\n",
    "# build model\n",
    "model = Sequential()\n",
    "\n",
    "model.add(Dense(100, input_dim=40))\n",
    "model.add(Activation('relu'))\n",
    "model.add(Dropout(0.2))\n",
    "\n",
    "model.add(Dense(100))\n",
    "model.add(Activation('relu'))\n",
    "model.add(Dropout(0.2))\n",
    "\n",
    "model.add(Dense(10))\n",
    "model.add(Activation('softmax'))\n",
    "\n",
    "model.compile(loss='categorical_crossentropy', metrics=['accuracy'], optimizer='adam')"
   ]
  },
  {
   "cell_type": "code",
   "execution_count": 342,
   "metadata": {
    "scrolled": true
   },
   "outputs": [
    {
     "name": "stdout",
     "output_type": "stream",
     "text": [
      "Train on 4348 samples, validate on 1087 samples\n",
      "Epoch 1/100\n",
      "4348/4348 [==============================] - 0s 47us/step - loss: 0.1216 - accuracy: 0.9637 - val_loss: 0.5888 - val_accuracy: 0.9052\n",
      "Epoch 2/100\n",
      "4348/4348 [==============================] - 0s 47us/step - loss: 0.1168 - accuracy: 0.9616 - val_loss: 0.6044 - val_accuracy: 0.9043\n",
      "Epoch 3/100\n",
      "4348/4348 [==============================] - 0s 48us/step - loss: 0.1360 - accuracy: 0.9598 - val_loss: 0.5681 - val_accuracy: 0.9025\n",
      "Epoch 4/100\n",
      "4348/4348 [==============================] - 0s 54us/step - loss: 0.1363 - accuracy: 0.9595 - val_loss: 0.5429 - val_accuracy: 0.9052\n",
      "Epoch 5/100\n",
      "4348/4348 [==============================] - 0s 47us/step - loss: 0.1287 - accuracy: 0.9598 - val_loss: 0.6025 - val_accuracy: 0.8970\n",
      "Epoch 6/100\n",
      "4348/4348 [==============================] - 0s 46us/step - loss: 0.1164 - accuracy: 0.9607 - val_loss: 0.6000 - val_accuracy: 0.9025\n",
      "Epoch 7/100\n",
      "4348/4348 [==============================] - 0s 48us/step - loss: 0.1300 - accuracy: 0.9586 - val_loss: 0.5706 - val_accuracy: 0.9071\n",
      "Epoch 8/100\n",
      "4348/4348 [==============================] - 0s 47us/step - loss: 0.1341 - accuracy: 0.9607 - val_loss: 0.5969 - val_accuracy: 0.9034\n",
      "Epoch 9/100\n",
      "4348/4348 [==============================] - 0s 50us/step - loss: 0.1118 - accuracy: 0.9673 - val_loss: 0.6046 - val_accuracy: 0.9052\n",
      "Epoch 10/100\n",
      "4348/4348 [==============================] - 0s 45us/step - loss: 0.1146 - accuracy: 0.9637 - val_loss: 0.5609 - val_accuracy: 0.9052\n",
      "Epoch 11/100\n",
      "4348/4348 [==============================] - 0s 39us/step - loss: 0.0895 - accuracy: 0.9713 - val_loss: 0.5540 - val_accuracy: 0.9034\n",
      "Epoch 12/100\n",
      "4348/4348 [==============================] - 0s 41us/step - loss: 0.1033 - accuracy: 0.9694 - val_loss: 0.5797 - val_accuracy: 0.9098\n",
      "Epoch 13/100\n",
      "4348/4348 [==============================] - 0s 41us/step - loss: 0.1312 - accuracy: 0.9627 - val_loss: 0.6091 - val_accuracy: 0.9025\n",
      "Epoch 14/100\n",
      "4348/4348 [==============================] - 0s 42us/step - loss: 0.1029 - accuracy: 0.9641 - val_loss: 0.5590 - val_accuracy: 0.9071\n",
      "Epoch 15/100\n",
      "4348/4348 [==============================] - 0s 49us/step - loss: 0.1384 - accuracy: 0.9572 - val_loss: 0.5591 - val_accuracy: 0.9080\n",
      "Epoch 16/100\n",
      "4348/4348 [==============================] - 0s 49us/step - loss: 0.1300 - accuracy: 0.9593 - val_loss: 0.5671 - val_accuracy: 0.8960\n",
      "Epoch 17/100\n",
      "4348/4348 [==============================] - 0s 47us/step - loss: 0.1315 - accuracy: 0.9614 - val_loss: 0.5931 - val_accuracy: 0.8988\n",
      "Epoch 18/100\n",
      "4348/4348 [==============================] - 0s 51us/step - loss: 0.1039 - accuracy: 0.9657 - val_loss: 0.6185 - val_accuracy: 0.9043\n",
      "Epoch 19/100\n",
      "4348/4348 [==============================] - 0s 64us/step - loss: 0.1171 - accuracy: 0.9598 - val_loss: 0.5821 - val_accuracy: 0.9071\n",
      "Epoch 20/100\n",
      "4348/4348 [==============================] - 0s 51us/step - loss: 0.1278 - accuracy: 0.9618 - val_loss: 0.6069 - val_accuracy: 0.9062\n",
      "Epoch 21/100\n",
      "4348/4348 [==============================] - 0s 57us/step - loss: 0.1135 - accuracy: 0.9625 - val_loss: 0.5713 - val_accuracy: 0.9034\n",
      "Epoch 22/100\n",
      "4348/4348 [==============================] - 0s 53us/step - loss: 0.1247 - accuracy: 0.9650 - val_loss: 0.5864 - val_accuracy: 0.8960\n",
      "Epoch 23/100\n",
      "4348/4348 [==============================] - 0s 49us/step - loss: 0.1177 - accuracy: 0.9662 - val_loss: 0.5991 - val_accuracy: 0.8997\n",
      "Epoch 24/100\n",
      "4348/4348 [==============================] - 0s 55us/step - loss: 0.1244 - accuracy: 0.9646 - val_loss: 0.5765 - val_accuracy: 0.9016\n",
      "Epoch 25/100\n",
      "4348/4348 [==============================] - 0s 47us/step - loss: 0.1192 - accuracy: 0.9662 - val_loss: 0.6250 - val_accuracy: 0.8933\n",
      "Epoch 26/100\n",
      "4348/4348 [==============================] - 0s 46us/step - loss: 0.1222 - accuracy: 0.9646 - val_loss: 0.5944 - val_accuracy: 0.8905\n",
      "Epoch 27/100\n",
      "4348/4348 [==============================] - 0s 47us/step - loss: 0.1275 - accuracy: 0.9611 - val_loss: 0.5909 - val_accuracy: 0.8988\n",
      "Epoch 28/100\n",
      "4348/4348 [==============================] - 0s 49us/step - loss: 0.1139 - accuracy: 0.9641 - val_loss: 0.6178 - val_accuracy: 0.9016\n",
      "Epoch 29/100\n",
      "4348/4348 [==============================] - 0s 46us/step - loss: 0.1113 - accuracy: 0.9664 - val_loss: 0.6335 - val_accuracy: 0.8979\n",
      "Epoch 30/100\n",
      "4348/4348 [==============================] - 0s 47us/step - loss: 0.1014 - accuracy: 0.9650 - val_loss: 0.5946 - val_accuracy: 0.9034\n",
      "Epoch 31/100\n",
      "4348/4348 [==============================] - 0s 47us/step - loss: 0.1389 - accuracy: 0.9593 - val_loss: 0.6069 - val_accuracy: 0.9098\n",
      "Epoch 32/100\n",
      "4348/4348 [==============================] - 0s 48us/step - loss: 0.1032 - accuracy: 0.9660 - val_loss: 0.6233 - val_accuracy: 0.9071\n",
      "Epoch 33/100\n",
      "4348/4348 [==============================] - 0s 48us/step - loss: 0.1340 - accuracy: 0.9611 - val_loss: 0.6180 - val_accuracy: 0.9071\n",
      "Epoch 34/100\n",
      "4348/4348 [==============================] - 0s 45us/step - loss: 0.1220 - accuracy: 0.9625 - val_loss: 0.6125 - val_accuracy: 0.9080\n",
      "Epoch 35/100\n",
      "4348/4348 [==============================] - 0s 50us/step - loss: 0.1488 - accuracy: 0.9552 - val_loss: 0.6360 - val_accuracy: 0.9062\n",
      "Epoch 36/100\n",
      "4348/4348 [==============================] - 0s 46us/step - loss: 0.1084 - accuracy: 0.9696 - val_loss: 0.5854 - val_accuracy: 0.9126\n",
      "Epoch 37/100\n",
      "4348/4348 [==============================] - 0s 47us/step - loss: 0.1136 - accuracy: 0.9664 - val_loss: 0.5965 - val_accuracy: 0.8970\n",
      "Epoch 38/100\n",
      "4348/4348 [==============================] - 0s 48us/step - loss: 0.1086 - accuracy: 0.9641 - val_loss: 0.6329 - val_accuracy: 0.8951\n",
      "Epoch 39/100\n",
      "4348/4348 [==============================] - 0s 46us/step - loss: 0.0960 - accuracy: 0.9687 - val_loss: 0.6145 - val_accuracy: 0.9062\n",
      "Epoch 40/100\n",
      "4348/4348 [==============================] - 0s 46us/step - loss: 0.1100 - accuracy: 0.9646 - val_loss: 0.6719 - val_accuracy: 0.9080\n",
      "Epoch 41/100\n",
      "4348/4348 [==============================] - 0s 46us/step - loss: 0.1396 - accuracy: 0.9595 - val_loss: 0.5906 - val_accuracy: 0.9052\n",
      "Epoch 42/100\n",
      "4348/4348 [==============================] - 0s 47us/step - loss: 0.1486 - accuracy: 0.9586 - val_loss: 0.5979 - val_accuracy: 0.9043\n",
      "Epoch 43/100\n",
      "4348/4348 [==============================] - 0s 47us/step - loss: 0.1150 - accuracy: 0.9646 - val_loss: 0.5852 - val_accuracy: 0.8970\n",
      "Epoch 44/100\n",
      "4348/4348 [==============================] - 0s 47us/step - loss: 0.1389 - accuracy: 0.9623 - val_loss: 0.5900 - val_accuracy: 0.9025\n",
      "Epoch 45/100\n",
      "4348/4348 [==============================] - 0s 46us/step - loss: 0.1263 - accuracy: 0.9593 - val_loss: 0.5592 - val_accuracy: 0.9025\n",
      "Epoch 46/100\n",
      "4348/4348 [==============================] - 0s 46us/step - loss: 0.1106 - accuracy: 0.9669 - val_loss: 0.5892 - val_accuracy: 0.9034\n",
      "Epoch 47/100\n",
      "4348/4348 [==============================] - 0s 47us/step - loss: 0.1255 - accuracy: 0.9614 - val_loss: 0.5960 - val_accuracy: 0.9062\n",
      "Epoch 48/100\n",
      "4348/4348 [==============================] - 0s 47us/step - loss: 0.0897 - accuracy: 0.9706 - val_loss: 0.6020 - val_accuracy: 0.9025\n",
      "Epoch 49/100\n",
      "4348/4348 [==============================] - 0s 45us/step - loss: 0.1138 - accuracy: 0.9673 - val_loss: 0.6098 - val_accuracy: 0.9025\n",
      "Epoch 50/100\n",
      "4348/4348 [==============================] - 0s 46us/step - loss: 0.1085 - accuracy: 0.9671 - val_loss: 0.5590 - val_accuracy: 0.8988\n",
      "Epoch 51/100\n",
      "4348/4348 [==============================] - 0s 46us/step - loss: 0.1235 - accuracy: 0.9630 - val_loss: 0.6356 - val_accuracy: 0.8997\n",
      "Epoch 52/100\n",
      "4348/4348 [==============================] - 0s 49us/step - loss: 0.1149 - accuracy: 0.9644 - val_loss: 0.5997 - val_accuracy: 0.9025\n",
      "Epoch 53/100\n",
      "4348/4348 [==============================] - 0s 47us/step - loss: 0.1278 - accuracy: 0.9618 - val_loss: 0.5733 - val_accuracy: 0.9025\n",
      "Epoch 54/100\n",
      "4348/4348 [==============================] - 0s 47us/step - loss: 0.1058 - accuracy: 0.9646 - val_loss: 0.6049 - val_accuracy: 0.9052\n",
      "Epoch 55/100\n",
      "4348/4348 [==============================] - 0s 47us/step - loss: 0.1065 - accuracy: 0.9673 - val_loss: 0.6080 - val_accuracy: 0.9043\n",
      "Epoch 56/100\n"
     ]
    },
    {
     "name": "stdout",
     "output_type": "stream",
     "text": [
      "4348/4348 [==============================] - 0s 47us/step - loss: 0.1249 - accuracy: 0.9627 - val_loss: 0.6325 - val_accuracy: 0.8960\n",
      "Epoch 57/100\n",
      "4348/4348 [==============================] - 0s 45us/step - loss: 0.0959 - accuracy: 0.9687 - val_loss: 0.5854 - val_accuracy: 0.9043\n",
      "Epoch 58/100\n",
      "4348/4348 [==============================] - 0s 45us/step - loss: 0.1025 - accuracy: 0.9667 - val_loss: 0.6625 - val_accuracy: 0.8970\n",
      "Epoch 59/100\n",
      "4348/4348 [==============================] - 0s 44us/step - loss: 0.1279 - accuracy: 0.9618 - val_loss: 0.5459 - val_accuracy: 0.9043\n",
      "Epoch 60/100\n",
      "4348/4348 [==============================] - 0s 44us/step - loss: 0.1278 - accuracy: 0.9600 - val_loss: 0.5567 - val_accuracy: 0.9034\n",
      "Epoch 61/100\n",
      "4348/4348 [==============================] - 0s 45us/step - loss: 0.1226 - accuracy: 0.9637 - val_loss: 0.5611 - val_accuracy: 0.9071\n",
      "Epoch 62/100\n",
      "4348/4348 [==============================] - 0s 44us/step - loss: 0.1176 - accuracy: 0.9671 - val_loss: 0.5714 - val_accuracy: 0.9016\n",
      "Epoch 63/100\n",
      "4348/4348 [==============================] - 0s 44us/step - loss: 0.1197 - accuracy: 0.9655 - val_loss: 0.5942 - val_accuracy: 0.9043\n",
      "Epoch 64/100\n",
      "4348/4348 [==============================] - 0s 44us/step - loss: 0.1118 - accuracy: 0.9653 - val_loss: 0.5770 - val_accuracy: 0.9080\n",
      "Epoch 65/100\n",
      "4348/4348 [==============================] - 0s 44us/step - loss: 0.1048 - accuracy: 0.9678 - val_loss: 0.5991 - val_accuracy: 0.9025\n",
      "Epoch 66/100\n",
      "4348/4348 [==============================] - 0s 43us/step - loss: 0.1029 - accuracy: 0.9678 - val_loss: 0.5855 - val_accuracy: 0.9089\n",
      "Epoch 67/100\n",
      "4348/4348 [==============================] - 0s 44us/step - loss: 0.1046 - accuracy: 0.9696 - val_loss: 0.6158 - val_accuracy: 0.9016\n",
      "Epoch 68/100\n",
      "4348/4348 [==============================] - 0s 44us/step - loss: 0.1096 - accuracy: 0.9669 - val_loss: 0.6500 - val_accuracy: 0.9025\n",
      "Epoch 69/100\n",
      "4348/4348 [==============================] - 0s 43us/step - loss: 0.1192 - accuracy: 0.9657 - val_loss: 0.6150 - val_accuracy: 0.9043\n",
      "Epoch 70/100\n",
      "4348/4348 [==============================] - 0s 45us/step - loss: 0.1173 - accuracy: 0.9660 - val_loss: 0.5973 - val_accuracy: 0.8988\n",
      "Epoch 71/100\n",
      "4348/4348 [==============================] - 0s 44us/step - loss: 0.1050 - accuracy: 0.9664 - val_loss: 0.6165 - val_accuracy: 0.9006\n",
      "Epoch 72/100\n",
      "4348/4348 [==============================] - 0s 44us/step - loss: 0.1110 - accuracy: 0.9639 - val_loss: 0.5944 - val_accuracy: 0.9006\n",
      "Epoch 73/100\n",
      "4348/4348 [==============================] - 0s 46us/step - loss: 0.1101 - accuracy: 0.9634 - val_loss: 0.6300 - val_accuracy: 0.9043\n",
      "Epoch 74/100\n",
      "4348/4348 [==============================] - 0s 43us/step - loss: 0.1120 - accuracy: 0.9644 - val_loss: 0.5624 - val_accuracy: 0.8988\n",
      "Epoch 75/100\n",
      "4348/4348 [==============================] - 0s 46us/step - loss: 0.1266 - accuracy: 0.9637 - val_loss: 0.6434 - val_accuracy: 0.9025\n",
      "Epoch 76/100\n",
      "4348/4348 [==============================] - 0s 47us/step - loss: 0.1038 - accuracy: 0.9685 - val_loss: 0.6283 - val_accuracy: 0.9043\n",
      "Epoch 77/100\n",
      "4348/4348 [==============================] - 0s 44us/step - loss: 0.1139 - accuracy: 0.9678 - val_loss: 0.6840 - val_accuracy: 0.8933\n",
      "Epoch 78/100\n",
      "4348/4348 [==============================] - 0s 46us/step - loss: 0.1474 - accuracy: 0.9609 - val_loss: 0.5776 - val_accuracy: 0.8997\n",
      "Epoch 79/100\n",
      "4348/4348 [==============================] - 0s 44us/step - loss: 0.1088 - accuracy: 0.9660 - val_loss: 0.6035 - val_accuracy: 0.8942\n",
      "Epoch 80/100\n",
      "4348/4348 [==============================] - 0s 46us/step - loss: 0.1082 - accuracy: 0.9660 - val_loss: 0.6326 - val_accuracy: 0.8979\n",
      "Epoch 81/100\n",
      "4348/4348 [==============================] - 0s 44us/step - loss: 0.1134 - accuracy: 0.9673 - val_loss: 0.5987 - val_accuracy: 0.8988\n",
      "Epoch 82/100\n",
      "4348/4348 [==============================] - 0s 45us/step - loss: 0.1330 - accuracy: 0.9664 - val_loss: 0.6357 - val_accuracy: 0.9034\n",
      "Epoch 83/100\n",
      "4348/4348 [==============================] - 0s 45us/step - loss: 0.1218 - accuracy: 0.9646 - val_loss: 0.6136 - val_accuracy: 0.9016\n",
      "Epoch 84/100\n",
      "4348/4348 [==============================] - 0s 43us/step - loss: 0.1204 - accuracy: 0.9639 - val_loss: 0.6237 - val_accuracy: 0.9025\n",
      "Epoch 85/100\n",
      "4348/4348 [==============================] - 0s 45us/step - loss: 0.1142 - accuracy: 0.9646 - val_loss: 0.6366 - val_accuracy: 0.8997\n",
      "Epoch 86/100\n",
      "4348/4348 [==============================] - 0s 45us/step - loss: 0.1294 - accuracy: 0.9625 - val_loss: 0.6626 - val_accuracy: 0.8997\n",
      "Epoch 87/100\n",
      "4348/4348 [==============================] - 0s 44us/step - loss: 0.1108 - accuracy: 0.9680 - val_loss: 0.6028 - val_accuracy: 0.9089\n",
      "Epoch 88/100\n",
      "4348/4348 [==============================] - 0s 46us/step - loss: 0.1136 - accuracy: 0.9650 - val_loss: 0.6308 - val_accuracy: 0.9016\n",
      "Epoch 89/100\n",
      "4348/4348 [==============================] - 0s 45us/step - loss: 0.1114 - accuracy: 0.9639 - val_loss: 0.6134 - val_accuracy: 0.9025\n",
      "Epoch 90/100\n",
      "4348/4348 [==============================] - 0s 45us/step - loss: 0.1347 - accuracy: 0.9621 - val_loss: 0.6255 - val_accuracy: 0.8988\n",
      "Epoch 91/100\n",
      "4348/4348 [==============================] - 0s 44us/step - loss: 0.1103 - accuracy: 0.9653 - val_loss: 0.6204 - val_accuracy: 0.8979\n",
      "Epoch 92/100\n",
      "4348/4348 [==============================] - 0s 45us/step - loss: 0.1115 - accuracy: 0.9703 - val_loss: 0.6061 - val_accuracy: 0.9016\n",
      "Epoch 93/100\n",
      "4348/4348 [==============================] - 0s 48us/step - loss: 0.1334 - accuracy: 0.9614 - val_loss: 0.5954 - val_accuracy: 0.8979\n",
      "Epoch 94/100\n",
      "4348/4348 [==============================] - 0s 45us/step - loss: 0.1339 - accuracy: 0.9604 - val_loss: 0.5765 - val_accuracy: 0.9006\n",
      "Epoch 95/100\n",
      "4348/4348 [==============================] - 0s 46us/step - loss: 0.1083 - accuracy: 0.9653 - val_loss: 0.5850 - val_accuracy: 0.9025\n",
      "Epoch 96/100\n",
      "4348/4348 [==============================] - 0s 46us/step - loss: 0.1129 - accuracy: 0.9683 - val_loss: 0.5744 - val_accuracy: 0.8988\n",
      "Epoch 97/100\n",
      "4348/4348 [==============================] - 0s 46us/step - loss: 0.1062 - accuracy: 0.9655 - val_loss: 0.5968 - val_accuracy: 0.9006\n",
      "Epoch 98/100\n",
      "4348/4348 [==============================] - 0s 47us/step - loss: 0.1092 - accuracy: 0.9690 - val_loss: 0.6582 - val_accuracy: 0.8988\n",
      "Epoch 99/100\n",
      "4348/4348 [==============================] - 0s 44us/step - loss: 0.1238 - accuracy: 0.9632 - val_loss: 0.5883 - val_accuracy: 0.9089\n",
      "Epoch 100/100\n",
      "4348/4348 [==============================] - 0s 46us/step - loss: 0.1237 - accuracy: 0.9650 - val_loss: 0.5947 - val_accuracy: 0.9126\n"
     ]
    }
   ],
   "source": [
    "baseline = model.fit(X, y, batch_size=32, epochs=100, validation_split=0.2)"
   ]
  },
  {
   "cell_type": "markdown",
   "metadata": {},
   "source": [
    "woohooo! \n",
    "\n",
    "Ok, now we have to tune the model.  First let's visualize the accuracy as epochs go on, to try select an optimum number of epochs. "
   ]
  },
  {
   "cell_type": "code",
   "execution_count": 330,
   "metadata": {},
   "outputs": [
    {
     "name": "stdout",
     "output_type": "stream",
     "text": [
      "dict_keys(['val_loss', 'val_accuracy', 'loss', 'accuracy'])\n"
     ]
    }
   ],
   "source": [
    "print(baseline.history.keys())"
   ]
  },
  {
   "cell_type": "code",
   "execution_count": 343,
   "metadata": {},
   "outputs": [
    {
     "data": {
      "image/png": "[encoded data removed]",
      "text/plain": [
       "<Figure size 432x288 with 1 Axes>"
      ]
     },
     "metadata": {
      "needs_background": "light"
     },
     "output_type": "display_data"
    },
    {
     "data": {
      "image/png": "[encoded data removed]",
      "text/plain": [
       "<Figure size 432x288 with 1 Axes>"
      ]
     },
     "metadata": {
      "needs_background": "light"
     },
     "output_type": "display_data"
    }
   ],
   "source": [
    "# summarize history for accuracy\n",
    "plt.plot(baseline.history['accuracy'])\n",
    "plt.plot(baseline.history['val_accuracy'])\n",
    "plt.title('model accuracy')\n",
    "plt.ylabel('accuracy')\n",
    "plt.xlabel('epoch')\n",
    "plt.legend(['train', 'test'], loc='upper left')\n",
    "plt.show()\n",
    "# summarize history for loss\n",
    "plt.plot(baseline.history['loss'])\n",
    "plt.plot(baseline.history['val_loss'])\n",
    "plt.title('model loss')\n",
    "plt.ylabel('loss')\n",
    "plt.xlabel('epoch')\n",
    "plt.legend(['train', 'test'], loc='upper left')\n",
    "plt.show()"
   ]
  },
  {
   "cell_type": "markdown",
   "metadata": {},
   "source": [
    "## train model on full train data set"
   ]
  },
  {
   "cell_type": "code",
   "execution_count": 372,
   "metadata": {},
   "outputs": [
    {
     "name": "stdout",
     "output_type": "stream",
     "text": [
      "[[-8.21235886e+01  1.39505951e+02 -4.24308472e+01  2.48278599e+01\n",
      "  -1.16207657e+01  2.34970875e+01 -1.21945887e+01  2.58971367e+01\n",
      "  -9.40527439e+00  2.12104378e+01 -7.36882114e+00  1.42543411e+01\n",
      "  -8.67870235e+00  7.75023842e+00 -1.01241159e+01  3.25811911e+00\n",
      "  -1.13526201e+01  2.80096865e+00 -7.04601288e+00  3.91331339e+00\n",
      "  -2.33497453e+00  2.01242232e+00 -2.79394436e+00  4.12927246e+00\n",
      "  -1.62076902e+00  4.32620049e+00 -1.03440940e+00 -1.23297668e+00\n",
      "  -3.11085224e+00  3.20448726e-01 -1.78778660e+00  4.42956239e-01\n",
      "  -1.79164755e+00 -7.63618052e-01 -1.24246442e+00 -2.76640058e-01\n",
      "   6.57185316e-01 -5.02371192e-01 -2.60428524e+00 -1.05346358e+00]\n",
      " [-1.57440014e+01  1.24119957e+02 -2.94288807e+01  3.94471893e+01\n",
      "  -2.35019169e+01  1.65508118e+01 -2.17368183e+01  1.65335693e+01\n",
      "  -1.69717293e+01  4.48358440e+00 -1.73876934e+01  7.37121999e-01\n",
      "  -1.62892284e+01  5.11214876e+00 -1.05592279e+01  2.91787291e+00\n",
      "  -1.03908472e+01  6.51300132e-01 -1.00463390e+01 -1.78347933e+00\n",
      "  -6.09971380e+00  5.62978506e+00 -4.65111160e+00 -1.36919332e+00\n",
      "  -8.24916458e+00 -2.36192703e+00 -4.79620695e+00 -5.02569437e-01\n",
      "  -5.41067505e+00  2.07804465e+00  7.18600178e+00  8.18575001e+00\n",
      "   7.67360687e-01  3.27261150e-01 -2.21366549e+00 -3.10683823e+00\n",
      "  -5.72384644e+00  8.23705614e-01  1.71932185e+00 -3.31463456e-01]\n",
      " [-1.23393654e+02  1.51819439e+01 -5.00933380e+01  7.14187098e+00\n",
      "  -2.68170338e+01 -6.92503452e-01 -8.22307587e+00  1.35129395e+01\n",
      "  -1.13820572e+01  1.99493561e+01 -1.11934605e+01  9.59290504e+00\n",
      "  -8.26917076e+00  4.59170914e+00 -4.11609364e+00 -1.26609862e-01\n",
      "  -9.26636028e+00  1.28646488e+01 -6.76812792e+00  1.79706678e-01\n",
      "  -5.58614540e+00  6.82406330e+00 -7.44341946e+00  6.71385241e+00\n",
      "   8.86961639e-01  7.95247316e+00 -7.80404615e+00  4.75135660e+00\n",
      "  -5.91704416e+00 -5.10828853e-01 -2.89312243e+00  3.75250483e+00\n",
      "  -4.37565041e+00  5.62462616e+00 -4.87082624e+00  1.88768256e+00\n",
      "  -3.88603210e+00  1.57439041e+00 -3.99674249e+00  3.24575019e+00]\n",
      " [-2.13278702e+02  8.93236160e+01 -5.52561646e+01  1.26320972e+01\n",
      "  -4.77753754e+01  1.47029076e+01  1.90393448e+01  1.59743948e+01\n",
      "  -3.44621748e-01 -3.85278964e+00 -5.71351814e+00  1.45023766e+01\n",
      "   7.35625124e+00  2.77150702e+00 -1.21664095e+01 -7.54264545e+00\n",
      "  -1.07718110e+00 -8.32686996e+00  1.13106918e+01  1.30546398e+01\n",
      "  -1.24408598e+01 -1.77511082e+01  5.21553420e-02  2.10836482e+00\n",
      "   5.23872328e+00  9.59365654e+00 -3.76473355e+00 -2.26955795e+00\n",
      "  -6.74119139e+00 -8.63759232e+00  1.20566397e+01 -4.87823820e+00\n",
      "  -5.16628647e+00  1.11927676e+00 -2.28136778e+00  5.82950926e+00\n",
      "   1.19403505e+00  7.46546888e+00 -1.78587759e+00 -1.50114546e+01]\n",
      " [-2.37926498e+02  1.35902466e+02  3.92684402e+01  2.12402306e+01\n",
      "   9.53133202e+00  1.38851223e+01 -3.99444962e+00  1.24814863e+01\n",
      "  -2.60462666e+00  6.07091570e+00  2.23836660e+00  4.17497110e+00\n",
      "  -1.90301335e+00  2.30779457e+00 -2.66079879e+00 -6.64914370e-01\n",
      "   4.49824476e+00  3.77204394e+00  3.37126565e+00  1.59958732e+00\n",
      "  -5.34918606e-01 -1.95140839e-01  6.27360702e-01  3.20973134e+00\n",
      "   1.33894134e+00  1.04330547e-01  9.07274127e-01 -2.27093887e+00\n",
      "  -5.29898345e-01  2.00067624e-01  5.41832685e-01 -3.01082134e-01\n",
      "   5.31195700e-01 -5.16149640e-01  1.73844659e+00  1.10963655e+00\n",
      "   2.75794101e+00  2.15940237e+00  6.26567006e-01  6.92016244e-01]]\n",
      "[[0 0 0 0 0 0 0 0 1 0]\n",
      " [0 0 0 0 0 0 0 0 0 1]\n",
      " [0 0 0 0 1 0 0 0 0 0]\n",
      " [0 0 0 0 0 0 0 0 1 0]\n",
      " [0 0 0 1 0 0 0 0 0 0]]\n"
     ]
    }
   ],
   "source": [
    "print(X[0:5])\n",
    "print(y[0:5])"
   ]
  },
  {
   "cell_type": "code",
   "execution_count": 373,
   "metadata": {},
   "outputs": [
    {
     "data": {
      "text/plain": [
       "<keras.callbacks.callbacks.History at 0x1c3d3bd150>"
      ]
     },
     "execution_count": 373,
     "metadata": {},
     "output_type": "execute_result"
    }
   ],
   "source": [
    "batch_size = 32\n",
    "epochs = 100\n",
    "\n",
    "model.fit(X, y, batch_size=batch_size, epochs=epochs, verbose=0)"
   ]
  },
  {
   "cell_type": "markdown",
   "metadata": {},
   "source": [
    "## prepare test data and predict"
   ]
  },
  {
   "cell_type": "code",
   "execution_count": 363,
   "metadata": {},
   "outputs": [
    {
     "name": "stdout",
     "output_type": "stream",
     "text": [
      "[-6.75352783e+01  8.07635403e+00 -5.35095453e+00  1.44126701e+01\n",
      " -1.11191607e+01  5.43501139e+00 -9.60642529e+00  2.59298396e+00\n",
      " -4.13223124e+00 -9.50844228e-01 -8.45531368e+00  7.76937962e+00\n",
      " -1.68982372e+01  8.16501236e+00 -1.45517244e+01  3.60345149e+00\n",
      " -3.01672565e-03 -4.77612346e-01  9.34465027e+00 -1.60270405e+00\n",
      "  6.43012285e+00  3.36061549e+00 -3.41992784e+00  7.55481195e+00\n",
      " -1.75253022e+00  6.01754618e+00  1.03648686e+00  4.11750031e+00\n",
      "  4.52184629e+00  9.01627362e-01  1.13913074e-01  4.38824701e+00\n",
      " -3.81073308e+00  3.50917459e+00 -9.53719854e-01  8.82968903e-01\n",
      " -4.26967955e+00  1.09390020e+00 -5.27148342e+00  4.58460331e+00]\n"
     ]
    }
   ],
   "source": [
    "# repeat encoding procedure for the test data\n",
    "\n",
    "data_dir = 'data/Test'\n",
    "'''\n",
    "def parse_sound(row):\n",
    "\n",
    "    file_name = os.path.join(data_dir, str(row.ID) + '.wav')\n",
    "\n",
    "    try:\n",
    "        y_audio, sample_rate = librosa.load(file_name, res_type='kaiser_fast') \n",
    "        mfccs = np.mean(librosa.feature.mfcc(y=y_audio, sr=sample_rate, n_mfcc=40).T,axis=0) \n",
    "    except Exception as e:\n",
    "        print(\"Error while parsing file: \", file)\n",
    "        return None\n",
    "  \n",
    "    return mfccs\n",
    "'''\n",
    "\n",
    "\n",
    "# and run on full test data set\n",
    "test['mfccs'] = test.apply(parse_sound, axis=1)"
   ]
  },
  {
   "cell_type": "code",
   "execution_count": 364,
   "metadata": {},
   "outputs": [
    {
     "data": {
      "text/html": [
       "<div>\n",
       "<style scoped>\n",
       "    .dataframe tbody tr th:only-of-type {\n",
       "        vertical-align: middle;\n",
       "    }\n",
       "\n",
       "    .dataframe tbody tr th {\n",
       "        vertical-align: top;\n",
       "    }\n",
       "\n",
       "    .dataframe thead th {\n",
       "        text-align: right;\n",
       "    }\n",
       "</style>\n",
       "<table border=\"1\" class=\"dataframe\">\n",
       "  <thead>\n",
       "    <tr style=\"text-align: right;\">\n",
       "      <th></th>\n",
       "      <th>ID</th>\n",
       "      <th>mfccs</th>\n",
       "    </tr>\n",
       "  </thead>\n",
       "  <tbody>\n",
       "    <tr>\n",
       "      <td>0</td>\n",
       "      <td>5</td>\n",
       "      <td>[-76.2993, 20.437246, -17.56602, 26.38778, -22...</td>\n",
       "    </tr>\n",
       "    <tr>\n",
       "      <td>1</td>\n",
       "      <td>7</td>\n",
       "      <td>[-375.73608, 149.91734, -21.467178, 14.365269,...</td>\n",
       "    </tr>\n",
       "    <tr>\n",
       "      <td>2</td>\n",
       "      <td>8</td>\n",
       "      <td>[-150.61726, -26.240969, -24.232021, 15.293082...</td>\n",
       "    </tr>\n",
       "    <tr>\n",
       "      <td>3</td>\n",
       "      <td>9</td>\n",
       "      <td>[-233.55365, 99.5192, -39.737137, 19.140862, -...</td>\n",
       "    </tr>\n",
       "    <tr>\n",
       "      <td>4</td>\n",
       "      <td>13</td>\n",
       "      <td>[-74.35853, 107.8869, -15.967571, 34.601448, -...</td>\n",
       "    </tr>\n",
       "  </tbody>\n",
       "</table>\n",
       "</div>"
      ],
      "text/plain": [
       "   ID                                              mfccs\n",
       "0   5  [-76.2993, 20.437246, -17.56602, 26.38778, -22...\n",
       "1   7  [-375.73608, 149.91734, -21.467178, 14.365269,...\n",
       "2   8  [-150.61726, -26.240969, -24.232021, 15.293082...\n",
       "3   9  [-233.55365, 99.5192, -39.737137, 19.140862, -...\n",
       "4  13  [-74.35853, 107.8869, -15.967571, 34.601448, -..."
      ]
     },
     "execution_count": 364,
     "metadata": {},
     "output_type": "execute_result"
    }
   ],
   "source": [
    "test.head()"
   ]
  },
  {
   "cell_type": "code",
   "execution_count": 389,
   "metadata": {},
   "outputs": [
    {
     "name": "stdout",
     "output_type": "stream",
     "text": [
      "(3297, 40)\n",
      "[-76.2993      20.437246   -17.56602     26.38778    -22.764183\n",
      "  16.670277   -20.356016    12.797763   -13.740049     8.0202055\n",
      " -16.762907    15.398877   -23.84557     14.435516   -20.161507\n",
      "   8.576482    -4.370316     3.3193154    6.0789685    1.1731479\n",
      "   4.1006446    5.286643    -4.9847617    8.799       -2.7138798\n",
      "   6.731223     0.53810346   4.429794     4.368757     0.9185511\n",
      "   0.21240382   4.192507    -3.5331564    3.1633296   -0.5510365\n",
      "   0.43360052  -3.782264     0.5759767   -4.7288184    4.023563  ]\n"
     ]
    }
   ],
   "source": [
    "X_test = np.array(test['mfccs'])\n",
    "# convert this from an array of objects to an array of arrays to have the right shape\n",
    "X_test = np.vstack(X_test)\n",
    "print(X_test.shape)\n",
    "print(X_test[0])"
   ]
  },
  {
   "cell_type": "code",
   "execution_count": 410,
   "metadata": {
    "scrolled": true
   },
   "outputs": [
    {
     "name": "stdout",
     "output_type": "stream",
     "text": [
      "3297/3297 [==============================] - 0s 13us/step\n"
     ]
    }
   ],
   "source": [
    "preds = model.predict_classes(X_test, verbose=1)"
   ]
  },
  {
   "cell_type": "code",
   "execution_count": 426,
   "metadata": {},
   "outputs": [],
   "source": [
    "predicted_classes = []\n",
    "for pred in preds:\n",
    "    predicted_classes.append(classes[pred])\n",
    "\n",
    "test['Class'] = predicted_classes"
   ]
  },
  {
   "cell_type": "code",
   "execution_count": 427,
   "metadata": {},
   "outputs": [],
   "source": [
    "submission = test[['Class', 'ID']]\n",
    "\n",
    "submission.to_csv('sub01.csv', index=False)"
   ]
  },
  {
   "cell_type": "markdown",
   "metadata": {},
   "source": [
    "my submission returned about a 0.6 accuracy -- ok but not great (random is around 0.1, and the leaderboard has some scores over 0.9). \n",
    "\n",
    "Next steps\n",
    "- try adding other charateristics of the audio - amplitude-based metrics could plausably help distinguish between kids playing and a jackhammer, for example \n",
    "- optimize hyperparamiters using grid search"
   ]
  }
 ],
 "metadata": {
  "kernelspec": {
   "display_name": "Python 3",
   "language": "python",
   "name": "python3"
  },
  "language_info": {
   "codemirror_mode": {
    "name": "ipython",
    "version": 3
   },
   "file_extension": ".py",
   "mimetype": "text/x-python",
   "name": "python",
   "nbconvert_exporter": "python",
   "pygments_lexer": "ipython3",
   "version": "3.7.4"
  }
 },
 "nbformat": 4,
 "nbformat_minor": 2
}
