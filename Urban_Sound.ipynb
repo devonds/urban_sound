{
 "cells": [
  {
   "cell_type": "markdown",
   "metadata": {},
   "source": [
    "The challenge is to classify urban sounds from 4-second sound files. There are 10 possible classifications. The dataset provided includes 8729 training examples and 8731 unlabled sound files for testing. I like this problem because I'm a bit of an audiophile, and I want to try my hand at a neural network. \n",
    "\n",
    "I'll train a neural network to classify the sounds. First, I'll use the librosa library to load in the audio files and extract features (the different distinct frequencies in the audio file).  Then, I'll encode the labels using scikit-learn's LabelEncoder().  I'll use Keras to build model, keeping it as simple as possible for now (3 layers, using standard paramaters). Then I will evaluate the model using the test data set.   "
   ]
  },
  {
   "cell_type": "markdown",
   "metadata": {},
   "source": [
    "##Loading and encoding data. \n",
    "I'll install librosa (for dealing with audio files) and import libraries, then load data. "
   ]
  },
  {
   "cell_type": "code",
   "execution_count": 321,
   "metadata": {},
   "outputs": [],
   "source": [
    "import os\n",
    "import pandas as pd\n",
    "import numpy as np\n",
    "import matplotlib.pyplot as plt\n",
    "import librosa"
   ]
  },
  {
   "cell_type": "code",
   "execution_count": 23,
   "metadata": {},
   "outputs": [],
   "source": [
    "train = pd.read_csv('data/train.csv')\n",
    "test = pd.read_csv('data/test.csv')"
   ]
  },
  {
   "cell_type": "code",
   "execution_count": 24,
   "metadata": {},
   "outputs": [
    {
     "data": {
      "text/html": [
       "<div>\n",
       "<style scoped>\n",
       "    .dataframe tbody tr th:only-of-type {\n",
       "        vertical-align: middle;\n",
       "    }\n",
       "\n",
       "    .dataframe tbody tr th {\n",
       "        vertical-align: top;\n",
       "    }\n",
       "\n",
       "    .dataframe thead th {\n",
       "        text-align: right;\n",
       "    }\n",
       "</style>\n",
       "<table border=\"1\" class=\"dataframe\">\n",
       "  <thead>\n",
       "    <tr style=\"text-align: right;\">\n",
       "      <th></th>\n",
       "      <th>ID</th>\n",
       "      <th>Class</th>\n",
       "    </tr>\n",
       "  </thead>\n",
       "  <tbody>\n",
       "    <tr>\n",
       "      <td>0</td>\n",
       "      <td>0</td>\n",
       "      <td>siren</td>\n",
       "    </tr>\n",
       "    <tr>\n",
       "      <td>1</td>\n",
       "      <td>1</td>\n",
       "      <td>street_music</td>\n",
       "    </tr>\n",
       "    <tr>\n",
       "      <td>2</td>\n",
       "      <td>2</td>\n",
       "      <td>drilling</td>\n",
       "    </tr>\n",
       "    <tr>\n",
       "      <td>3</td>\n",
       "      <td>3</td>\n",
       "      <td>siren</td>\n",
       "    </tr>\n",
       "    <tr>\n",
       "      <td>4</td>\n",
       "      <td>4</td>\n",
       "      <td>dog_bark</td>\n",
       "    </tr>\n",
       "  </tbody>\n",
       "</table>\n",
       "</div>"
      ],
      "text/plain": [
       "   ID         Class\n",
       "0   0         siren\n",
       "1   1  street_music\n",
       "2   2      drilling\n",
       "3   3         siren\n",
       "4   4      dog_bark"
      ]
     },
     "execution_count": 24,
     "metadata": {},
     "output_type": "execute_result"
    }
   ],
   "source": [
    "train.head()"
   ]
  },
  {
   "cell_type": "code",
   "execution_count": 25,
   "metadata": {},
   "outputs": [
    {
     "data": {
      "text/plain": [
       "jackhammer          668\n",
       "engine_idling       624\n",
       "siren               607\n",
       "dog_bark            600\n",
       "street_music        600\n",
       "air_conditioner     600\n",
       "drilling            600\n",
       "children_playing    600\n",
       "car_horn            306\n",
       "gun_shot            230\n",
       "Name: Class, dtype: int64"
      ]
     },
     "execution_count": 25,
     "metadata": {},
     "output_type": "execute_result"
    }
   ],
   "source": [
    "train.Class.value_counts()"
   ]
  },
  {
   "cell_type": "markdown",
   "metadata": {},
   "source": [
    "We have about 600 examples of most sound types, about half that of car horn recordings, and about a third that of gun shots. "
   ]
  },
  {
   "cell_type": "markdown",
   "metadata": {},
   "source": [
    "Now we will load the audio files using librosa.  I'll define a function that will allow me to apply the data to a data frame with the IDs and labels. \n",
    "\n",
    "Some explanation of the choices for processing audio data: \n",
    "1. Setting res_type to kaiser_fast speeds up loading the data, at a loss of quality. \n",
    "2. MFCC stands for Mel-frequency cepstral coefficients, it is a technique for extrating features based on frequency from the raw adio data. \n",
    "3. librosa.load returns a matrix (technically an mumpy.ndarray of size (n_mfcc, T) where T denotes the track duration in frames)."
   ]
  },
  {
   "cell_type": "code",
   "execution_count": 185,
   "metadata": {},
   "outputs": [],
   "source": [
    "data_dir = 'data/Train'\n",
    "\n",
    "def parse_sound(row):\n",
    "\n",
    "    file_name = os.path.join('data/Train', str(row.ID) + '.wav')\n",
    "\n",
    "    try:\n",
    "        y_audio, sample_rate = librosa.load(file_name, res_type='kaiser_fast') \n",
    "        mfccs = np.mean(librosa.feature.mfcc(y=y_audio, sr=sample_rate, n_mfcc=40).T,axis=0) \n",
    "    except Exception as e:\n",
    "        print(\"Error while parsing file: \", file)\n",
    "        return None\n",
    "  \n",
    "    return mfccs"
   ]
  },
  {
   "cell_type": "markdown",
   "metadata": {},
   "source": [
    "I want to get a visual confirmation of what this function does.  So, "
   ]
  },
  {
   "cell_type": "code",
   "execution_count": 184,
   "metadata": {
    "scrolled": true
   },
   "outputs": [
    {
     "data": {
      "text/plain": [
       "array([-7.5095695e+01,  1.2961186e+02, -3.2669899e+01,  1.5285441e+01,\n",
       "       -2.3782072e+00,  1.4626383e+01, -3.7646337e+00,  1.7962053e+01,\n",
       "       -2.0119922e+00,  1.4395791e+01, -1.1574688e+00,  8.6595840e+00,\n",
       "       -3.7047443e+00,  3.3922620e+00, -6.3679357e+00,  8.1460260e-02,\n",
       "       -8.7272234e+00,  6.9419968e-01, -5.4218426e+00,  2.7331510e+00,\n",
       "       -1.5587350e+00,  1.5997877e+00, -2.7055860e+00,  4.3276987e+00,\n",
       "       -2.0708835e+00,  4.9955597e+00, -1.8933897e+00, -2.1113320e-01,\n",
       "       -4.2716827e+00,  1.5992585e+00, -3.1662819e+00,  1.9053738e+00,\n",
       "       -3.3244791e+00,  8.2804763e-01, -2.8830101e+00,  1.4041675e+00,\n",
       "       -1.0563265e+00,  1.2371618e+00, -4.3638902e+00,  7.2084457e-01],\n",
       "      dtype=float32)"
      ]
     },
     "execution_count": 184,
     "metadata": {},
     "output_type": "execute_result"
    }
   ],
   "source": [
    "y_audio, sample_rate = librosa.load(os.path.join('data/Train', '0.wav'))\n",
    "mfcc = np.mean(librosa.feature.mfcc(y=y_audio, sr=sample_rate, n_mfcc=40).T, axis=0)\n",
    "mfcc"
   ]
  },
  {
   "cell_type": "markdown",
   "metadata": {},
   "source": [
    "These outputs are numerical values for each feature (think of the raw audio as what you hear from a whole choir, and the features are the a representation of each singer's voice for a given time interval, here, 1/10 of a second. It's really pulling out sound waves at different frequencies). \n",
    "\n",
    "Numerical values are our input to the ML model! It's just like the numerical representation of light intensity of a given color in a given pixel, in the context of computer vision.  "
   ]
  },
  {
   "cell_type": "markdown",
   "metadata": {},
   "source": [
    "Join the extracted feature data to the ID and label data. This takes a while... "
   ]
  },
  {
   "cell_type": "code",
   "execution_count": 186,
   "metadata": {},
   "outputs": [],
   "source": [
    "ttrain = train\n",
    "ttrain['mfccs'] = ttrain.apply(parse_sound, axis=1)"
   ]
  },
  {
   "cell_type": "code",
   "execution_count": 188,
   "metadata": {
    "scrolled": false
   },
   "outputs": [
    {
     "data": {
      "text/html": [
       "<div>\n",
       "<style scoped>\n",
       "    .dataframe tbody tr th:only-of-type {\n",
       "        vertical-align: middle;\n",
       "    }\n",
       "\n",
       "    .dataframe tbody tr th {\n",
       "        vertical-align: top;\n",
       "    }\n",
       "\n",
       "    .dataframe thead th {\n",
       "        text-align: right;\n",
       "    }\n",
       "</style>\n",
       "<table border=\"1\" class=\"dataframe\">\n",
       "  <thead>\n",
       "    <tr style=\"text-align: right;\">\n",
       "      <th></th>\n",
       "      <th>ID</th>\n",
       "      <th>Class</th>\n",
       "      <th>mfccs</th>\n",
       "    </tr>\n",
       "  </thead>\n",
       "  <tbody>\n",
       "    <tr>\n",
       "      <td>0</td>\n",
       "      <td>0</td>\n",
       "      <td>siren</td>\n",
       "      <td>[-82.12359, 139.50595, -42.430847, 24.82786, -...</td>\n",
       "    </tr>\n",
       "    <tr>\n",
       "      <td>1</td>\n",
       "      <td>1</td>\n",
       "      <td>street_music</td>\n",
       "      <td>[-15.744001, 124.11996, -29.42888, 39.44719, -...</td>\n",
       "    </tr>\n",
       "    <tr>\n",
       "      <td>2</td>\n",
       "      <td>2</td>\n",
       "      <td>drilling</td>\n",
       "      <td>[-123.393654, 15.181944, -50.093338, 7.141871,...</td>\n",
       "    </tr>\n",
       "    <tr>\n",
       "      <td>3</td>\n",
       "      <td>3</td>\n",
       "      <td>siren</td>\n",
       "      <td>[-213.2787, 89.323616, -55.256165, 12.632097, ...</td>\n",
       "    </tr>\n",
       "    <tr>\n",
       "      <td>4</td>\n",
       "      <td>4</td>\n",
       "      <td>dog_bark</td>\n",
       "      <td>[-237.9265, 135.90247, 39.26844, 21.24023, 9.5...</td>\n",
       "    </tr>\n",
       "  </tbody>\n",
       "</table>\n",
       "</div>"
      ],
      "text/plain": [
       "   ID         Class                                              mfccs\n",
       "0   0         siren  [-82.12359, 139.50595, -42.430847, 24.82786, -...\n",
       "1   1  street_music  [-15.744001, 124.11996, -29.42888, 39.44719, -...\n",
       "2   2      drilling  [-123.393654, 15.181944, -50.093338, 7.141871,...\n",
       "3   3         siren  [-213.2787, 89.323616, -55.256165, 12.632097, ...\n",
       "4   4      dog_bark  [-237.9265, 135.90247, 39.26844, 21.24023, 9.5..."
      ]
     },
     "execution_count": 188,
     "metadata": {},
     "output_type": "execute_result"
    }
   ],
   "source": [
    "ttrain = ttrain[['ID', 'Class', 'mfccs']]\n",
    "ttrain.head()"
   ]
  },
  {
   "cell_type": "markdown",
   "metadata": {},
   "source": [
    "unresolved question: are these normally distributed? do they need normalization? do they need regularization? --adress this in next version"
   ]
  },
  {
   "cell_type": "code",
   "execution_count": 100,
   "metadata": {},
   "outputs": [],
   "source": []
  },
  {
   "cell_type": "markdown",
   "metadata": {},
   "source": [
    "Set the mfcc data to X, labels to y, test mfcc data to test_X.  Encode labels as numbers. "
   ]
  },
  {
   "cell_type": "code",
   "execution_count": 316,
   "metadata": {},
   "outputs": [
    {
     "name": "stdout",
     "output_type": "stream",
     "text": [
      "X shape:  (5435, 40)\n",
      "y shape:  (5435, 10)\n",
      "y classes detected:  ['air_conditioner' 'car_horn' 'children_playing' 'dog_bark' 'drilling'\n",
      " 'engine_idling' 'gun_shot' 'jackhammer' 'siren' 'street_music']\n",
      "[[0 0 0 0 0 0 0 0 1 0]\n",
      " [0 0 0 0 0 0 0 0 0 1]\n",
      " [0 0 0 0 1 0 0 0 0 0]\n",
      " [0 0 0 0 0 0 0 0 1 0]\n",
      " [0 0 0 1 0 0 0 0 0 0]]\n"
     ]
    }
   ],
   "source": [
    "from sklearn import preprocessing\n",
    "\n",
    "X = np.array(ttrain['mfccs'])\n",
    "# turns out I have to convert this from an array of objects to an array of arrays to have the right shape\n",
    "X = np.vstack(X)\n",
    "y = np.array(ttrain['Class'])\n",
    "\n",
    "print('X shape: ', X.shape)\n",
    "\n",
    "#X = np.array(ttrain.mfccs.tolist)\n",
    "\n",
    "#sounds = ttrain['mfccs']\n",
    "#X = []\n",
    "#for sound in sounds:\n",
    "#    X.append(sounds[sound])\n",
    "\n",
    "\n",
    "# encode labels as numbers\n",
    "lb = preprocessing.LabelBinarizer()\n",
    "y = lb.fit_transform(y)\n",
    "\n",
    "print('y shape: ', y.shape)\n",
    "print('y classes detected: ', lb.classes_)\n",
    "print(lb.fit_transform(y)[0:5])"
   ]
  },
  {
   "cell_type": "markdown",
   "metadata": {},
   "source": [
    "##construct a neural network model!\n",
    "\n",
    "Notes on hyperparameter choice:\n",
    "1. 4 layers, one input, two hidden, one output. \n",
    "2. input layer shape is 40 because thre are 40 mel-frequency cepstral coeficients, one for each tenth of a second, in each sound file.  Output layer shape is 10 because there are 10 possible labels (actually, i have it calcualte that value).  The hidden layer is \n",
    "3. Activation = relu in the first two layers, Activation = softmax for output layer because thats what we need for multi-class classification.  All outputs sum to 1. \n",
    "4. Set dropout to 0.2 at start\n",
    "5. "
   ]
  },
  {
   "cell_type": "code",
   "execution_count": 194,
   "metadata": {},
   "outputs": [],
   "source": [
    "from keras.models import Sequential\n",
    "from keras.layers import Dense, Dropout, Activation, Flatten\n",
    "from keras.layers import Convolution2D, MaxPooling2D\n",
    "from keras.optimizers import Adam\n",
    "from keras.utils import np_utils\n",
    "from sklearn import metrics \n",
    "\n",
    "# build model\n",
    "model = Sequential()\n",
    "\n",
    "model.add(Dense(100, input_dim=40))\n",
    "model.add(Activation('relu'))\n",
    "model.add(Dropout(0.2))\n",
    "\n",
    "model.add(Dense(100))\n",
    "model.add(Activation('relu'))\n",
    "model.add(Dropout(0.2))\n",
    "\n",
    "model.add(Dense(10))\n",
    "model.add(Activation('softmax'))\n",
    "\n",
    "model.compile(loss='categorical_crossentropy', metrics=['accuracy'], optimizer='adam')"
   ]
  },
  {
   "cell_type": "code",
   "execution_count": 342,
   "metadata": {
    "scrolled": true
   },
   "outputs": [
    {
     "name": "stdout",
     "output_type": "stream",
     "text": [
      "Train on 4348 samples, validate on 1087 samples\n",
      "Epoch 1/100\n",
      "4348/4348 [==============================] - 0s 47us/step - loss: 0.1216 - accuracy: 0.9637 - val_loss: 0.5888 - val_accuracy: 0.9052\n",
      "Epoch 2/100\n",
      "4348/4348 [==============================] - 0s 47us/step - loss: 0.1168 - accuracy: 0.9616 - val_loss: 0.6044 - val_accuracy: 0.9043\n",
      "Epoch 3/100\n",
      "4348/4348 [==============================] - 0s 48us/step - loss: 0.1360 - accuracy: 0.9598 - val_loss: 0.5681 - val_accuracy: 0.9025\n",
      "Epoch 4/100\n",
      "4348/4348 [==============================] - 0s 54us/step - loss: 0.1363 - accuracy: 0.9595 - val_loss: 0.5429 - val_accuracy: 0.9052\n",
      "Epoch 5/100\n",
      "4348/4348 [==============================] - 0s 47us/step - loss: 0.1287 - accuracy: 0.9598 - val_loss: 0.6025 - val_accuracy: 0.8970\n",
      "Epoch 6/100\n",
      "4348/4348 [==============================] - 0s 46us/step - loss: 0.1164 - accuracy: 0.9607 - val_loss: 0.6000 - val_accuracy: 0.9025\n",
      "Epoch 7/100\n",
      "4348/4348 [==============================] - 0s 48us/step - loss: 0.1300 - accuracy: 0.9586 - val_loss: 0.5706 - val_accuracy: 0.9071\n",
      "Epoch 8/100\n",
      "4348/4348 [==============================] - 0s 47us/step - loss: 0.1341 - accuracy: 0.9607 - val_loss: 0.5969 - val_accuracy: 0.9034\n",
      "Epoch 9/100\n",
      "4348/4348 [==============================] - 0s 50us/step - loss: 0.1118 - accuracy: 0.9673 - val_loss: 0.6046 - val_accuracy: 0.9052\n",
      "Epoch 10/100\n",
      "4348/4348 [==============================] - 0s 45us/step - loss: 0.1146 - accuracy: 0.9637 - val_loss: 0.5609 - val_accuracy: 0.9052\n",
      "Epoch 11/100\n",
      "4348/4348 [==============================] - 0s 39us/step - loss: 0.0895 - accuracy: 0.9713 - val_loss: 0.5540 - val_accuracy: 0.9034\n",
      "Epoch 12/100\n",
      "4348/4348 [==============================] - 0s 41us/step - loss: 0.1033 - accuracy: 0.9694 - val_loss: 0.5797 - val_accuracy: 0.9098\n",
      "Epoch 13/100\n",
      "4348/4348 [==============================] - 0s 41us/step - loss: 0.1312 - accuracy: 0.9627 - val_loss: 0.6091 - val_accuracy: 0.9025\n",
      "Epoch 14/100\n",
      "4348/4348 [==============================] - 0s 42us/step - loss: 0.1029 - accuracy: 0.9641 - val_loss: 0.5590 - val_accuracy: 0.9071\n",
      "Epoch 15/100\n",
      "4348/4348 [==============================] - 0s 49us/step - loss: 0.1384 - accuracy: 0.9572 - val_loss: 0.5591 - val_accuracy: 0.9080\n",
      "Epoch 16/100\n",
      "4348/4348 [==============================] - 0s 49us/step - loss: 0.1300 - accuracy: 0.9593 - val_loss: 0.5671 - val_accuracy: 0.8960\n",
      "Epoch 17/100\n",
      "4348/4348 [==============================] - 0s 47us/step - loss: 0.1315 - accuracy: 0.9614 - val_loss: 0.5931 - val_accuracy: 0.8988\n",
      "Epoch 18/100\n",
      "4348/4348 [==============================] - 0s 51us/step - loss: 0.1039 - accuracy: 0.9657 - val_loss: 0.6185 - val_accuracy: 0.9043\n",
      "Epoch 19/100\n",
      "4348/4348 [==============================] - 0s 64us/step - loss: 0.1171 - accuracy: 0.9598 - val_loss: 0.5821 - val_accuracy: 0.9071\n",
      "Epoch 20/100\n",
      "4348/4348 [==============================] - 0s 51us/step - loss: 0.1278 - accuracy: 0.9618 - val_loss: 0.6069 - val_accuracy: 0.9062\n",
      "Epoch 21/100\n",
      "4348/4348 [==============================] - 0s 57us/step - loss: 0.1135 - accuracy: 0.9625 - val_loss: 0.5713 - val_accuracy: 0.9034\n",
      "Epoch 22/100\n",
      "4348/4348 [==============================] - 0s 53us/step - loss: 0.1247 - accuracy: 0.9650 - val_loss: 0.5864 - val_accuracy: 0.8960\n",
      "Epoch 23/100\n",
      "4348/4348 [==============================] - 0s 49us/step - loss: 0.1177 - accuracy: 0.9662 - val_loss: 0.5991 - val_accuracy: 0.8997\n",
      "Epoch 24/100\n",
      "4348/4348 [==============================] - 0s 55us/step - loss: 0.1244 - accuracy: 0.9646 - val_loss: 0.5765 - val_accuracy: 0.9016\n",
      "Epoch 25/100\n",
      "4348/4348 [==============================] - 0s 47us/step - loss: 0.1192 - accuracy: 0.9662 - val_loss: 0.6250 - val_accuracy: 0.8933\n",
      "Epoch 26/100\n",
      "4348/4348 [==============================] - 0s 46us/step - loss: 0.1222 - accuracy: 0.9646 - val_loss: 0.5944 - val_accuracy: 0.8905\n",
      "Epoch 27/100\n",
      "4348/4348 [==============================] - 0s 47us/step - loss: 0.1275 - accuracy: 0.9611 - val_loss: 0.5909 - val_accuracy: 0.8988\n",
      "Epoch 28/100\n",
      "4348/4348 [==============================] - 0s 49us/step - loss: 0.1139 - accuracy: 0.9641 - val_loss: 0.6178 - val_accuracy: 0.9016\n",
      "Epoch 29/100\n",
      "4348/4348 [==============================] - 0s 46us/step - loss: 0.1113 - accuracy: 0.9664 - val_loss: 0.6335 - val_accuracy: 0.8979\n",
      "Epoch 30/100\n",
      "4348/4348 [==============================] - 0s 47us/step - loss: 0.1014 - accuracy: 0.9650 - val_loss: 0.5946 - val_accuracy: 0.9034\n",
      "Epoch 31/100\n",
      "4348/4348 [==============================] - 0s 47us/step - loss: 0.1389 - accuracy: 0.9593 - val_loss: 0.6069 - val_accuracy: 0.9098\n",
      "Epoch 32/100\n",
      "4348/4348 [==============================] - 0s 48us/step - loss: 0.1032 - accuracy: 0.9660 - val_loss: 0.6233 - val_accuracy: 0.9071\n",
      "Epoch 33/100\n",
      "4348/4348 [==============================] - 0s 48us/step - loss: 0.1340 - accuracy: 0.9611 - val_loss: 0.6180 - val_accuracy: 0.9071\n",
      "Epoch 34/100\n",
      "4348/4348 [==============================] - 0s 45us/step - loss: 0.1220 - accuracy: 0.9625 - val_loss: 0.6125 - val_accuracy: 0.9080\n",
      "Epoch 35/100\n",
      "4348/4348 [==============================] - 0s 50us/step - loss: 0.1488 - accuracy: 0.9552 - val_loss: 0.6360 - val_accuracy: 0.9062\n",
      "Epoch 36/100\n",
      "4348/4348 [==============================] - 0s 46us/step - loss: 0.1084 - accuracy: 0.9696 - val_loss: 0.5854 - val_accuracy: 0.9126\n",
      "Epoch 37/100\n",
      "4348/4348 [==============================] - 0s 47us/step - loss: 0.1136 - accuracy: 0.9664 - val_loss: 0.5965 - val_accuracy: 0.8970\n",
      "Epoch 38/100\n",
      "4348/4348 [==============================] - 0s 48us/step - loss: 0.1086 - accuracy: 0.9641 - val_loss: 0.6329 - val_accuracy: 0.8951\n",
      "Epoch 39/100\n",
      "4348/4348 [==============================] - 0s 46us/step - loss: 0.0960 - accuracy: 0.9687 - val_loss: 0.6145 - val_accuracy: 0.9062\n",
      "Epoch 40/100\n",
      "4348/4348 [==============================] - 0s 46us/step - loss: 0.1100 - accuracy: 0.9646 - val_loss: 0.6719 - val_accuracy: 0.9080\n",
      "Epoch 41/100\n",
      "4348/4348 [==============================] - 0s 46us/step - loss: 0.1396 - accuracy: 0.9595 - val_loss: 0.5906 - val_accuracy: 0.9052\n",
      "Epoch 42/100\n",
      "4348/4348 [==============================] - 0s 47us/step - loss: 0.1486 - accuracy: 0.9586 - val_loss: 0.5979 - val_accuracy: 0.9043\n",
      "Epoch 43/100\n",
      "4348/4348 [==============================] - 0s 47us/step - loss: 0.1150 - accuracy: 0.9646 - val_loss: 0.5852 - val_accuracy: 0.8970\n",
      "Epoch 44/100\n",
      "4348/4348 [==============================] - 0s 47us/step - loss: 0.1389 - accuracy: 0.9623 - val_loss: 0.5900 - val_accuracy: 0.9025\n",
      "Epoch 45/100\n",
      "4348/4348 [==============================] - 0s 46us/step - loss: 0.1263 - accuracy: 0.9593 - val_loss: 0.5592 - val_accuracy: 0.9025\n",
      "Epoch 46/100\n",
      "4348/4348 [==============================] - 0s 46us/step - loss: 0.1106 - accuracy: 0.9669 - val_loss: 0.5892 - val_accuracy: 0.9034\n",
      "Epoch 47/100\n",
      "4348/4348 [==============================] - 0s 47us/step - loss: 0.1255 - accuracy: 0.9614 - val_loss: 0.5960 - val_accuracy: 0.9062\n",
      "Epoch 48/100\n",
      "4348/4348 [==============================] - 0s 47us/step - loss: 0.0897 - accuracy: 0.9706 - val_loss: 0.6020 - val_accuracy: 0.9025\n",
      "Epoch 49/100\n",
      "4348/4348 [==============================] - 0s 45us/step - loss: 0.1138 - accuracy: 0.9673 - val_loss: 0.6098 - val_accuracy: 0.9025\n",
      "Epoch 50/100\n",
      "4348/4348 [==============================] - 0s 46us/step - loss: 0.1085 - accuracy: 0.9671 - val_loss: 0.5590 - val_accuracy: 0.8988\n",
      "Epoch 51/100\n",
      "4348/4348 [==============================] - 0s 46us/step - loss: 0.1235 - accuracy: 0.9630 - val_loss: 0.6356 - val_accuracy: 0.8997\n",
      "Epoch 52/100\n",
      "4348/4348 [==============================] - 0s 49us/step - loss: 0.1149 - accuracy: 0.9644 - val_loss: 0.5997 - val_accuracy: 0.9025\n",
      "Epoch 53/100\n",
      "4348/4348 [==============================] - 0s 47us/step - loss: 0.1278 - accuracy: 0.9618 - val_loss: 0.5733 - val_accuracy: 0.9025\n",
      "Epoch 54/100\n",
      "4348/4348 [==============================] - 0s 47us/step - loss: 0.1058 - accuracy: 0.9646 - val_loss: 0.6049 - val_accuracy: 0.9052\n",
      "Epoch 55/100\n",
      "4348/4348 [==============================] - 0s 47us/step - loss: 0.1065 - accuracy: 0.9673 - val_loss: 0.6080 - val_accuracy: 0.9043\n",
      "Epoch 56/100\n"
     ]
    },
    {
     "name": "stdout",
     "output_type": "stream",
     "text": [
      "4348/4348 [==============================] - 0s 47us/step - loss: 0.1249 - accuracy: 0.9627 - val_loss: 0.6325 - val_accuracy: 0.8960\n",
      "Epoch 57/100\n",
      "4348/4348 [==============================] - 0s 45us/step - loss: 0.0959 - accuracy: 0.9687 - val_loss: 0.5854 - val_accuracy: 0.9043\n",
      "Epoch 58/100\n",
      "4348/4348 [==============================] - 0s 45us/step - loss: 0.1025 - accuracy: 0.9667 - val_loss: 0.6625 - val_accuracy: 0.8970\n",
      "Epoch 59/100\n",
      "4348/4348 [==============================] - 0s 44us/step - loss: 0.1279 - accuracy: 0.9618 - val_loss: 0.5459 - val_accuracy: 0.9043\n",
      "Epoch 60/100\n",
      "4348/4348 [==============================] - 0s 44us/step - loss: 0.1278 - accuracy: 0.9600 - val_loss: 0.5567 - val_accuracy: 0.9034\n",
      "Epoch 61/100\n",
      "4348/4348 [==============================] - 0s 45us/step - loss: 0.1226 - accuracy: 0.9637 - val_loss: 0.5611 - val_accuracy: 0.9071\n",
      "Epoch 62/100\n",
      "4348/4348 [==============================] - 0s 44us/step - loss: 0.1176 - accuracy: 0.9671 - val_loss: 0.5714 - val_accuracy: 0.9016\n",
      "Epoch 63/100\n",
      "4348/4348 [==============================] - 0s 44us/step - loss: 0.1197 - accuracy: 0.9655 - val_loss: 0.5942 - val_accuracy: 0.9043\n",
      "Epoch 64/100\n",
      "4348/4348 [==============================] - 0s 44us/step - loss: 0.1118 - accuracy: 0.9653 - val_loss: 0.5770 - val_accuracy: 0.9080\n",
      "Epoch 65/100\n",
      "4348/4348 [==============================] - 0s 44us/step - loss: 0.1048 - accuracy: 0.9678 - val_loss: 0.5991 - val_accuracy: 0.9025\n",
      "Epoch 66/100\n",
      "4348/4348 [==============================] - 0s 43us/step - loss: 0.1029 - accuracy: 0.9678 - val_loss: 0.5855 - val_accuracy: 0.9089\n",
      "Epoch 67/100\n",
      "4348/4348 [==============================] - 0s 44us/step - loss: 0.1046 - accuracy: 0.9696 - val_loss: 0.6158 - val_accuracy: 0.9016\n",
      "Epoch 68/100\n",
      "4348/4348 [==============================] - 0s 44us/step - loss: 0.1096 - accuracy: 0.9669 - val_loss: 0.6500 - val_accuracy: 0.9025\n",
      "Epoch 69/100\n",
      "4348/4348 [==============================] - 0s 43us/step - loss: 0.1192 - accuracy: 0.9657 - val_loss: 0.6150 - val_accuracy: 0.9043\n",
      "Epoch 70/100\n",
      "4348/4348 [==============================] - 0s 45us/step - loss: 0.1173 - accuracy: 0.9660 - val_loss: 0.5973 - val_accuracy: 0.8988\n",
      "Epoch 71/100\n",
      "4348/4348 [==============================] - 0s 44us/step - loss: 0.1050 - accuracy: 0.9664 - val_loss: 0.6165 - val_accuracy: 0.9006\n",
      "Epoch 72/100\n",
      "4348/4348 [==============================] - 0s 44us/step - loss: 0.1110 - accuracy: 0.9639 - val_loss: 0.5944 - val_accuracy: 0.9006\n",
      "Epoch 73/100\n",
      "4348/4348 [==============================] - 0s 46us/step - loss: 0.1101 - accuracy: 0.9634 - val_loss: 0.6300 - val_accuracy: 0.9043\n",
      "Epoch 74/100\n",
      "4348/4348 [==============================] - 0s 43us/step - loss: 0.1120 - accuracy: 0.9644 - val_loss: 0.5624 - val_accuracy: 0.8988\n",
      "Epoch 75/100\n",
      "4348/4348 [==============================] - 0s 46us/step - loss: 0.1266 - accuracy: 0.9637 - val_loss: 0.6434 - val_accuracy: 0.9025\n",
      "Epoch 76/100\n",
      "4348/4348 [==============================] - 0s 47us/step - loss: 0.1038 - accuracy: 0.9685 - val_loss: 0.6283 - val_accuracy: 0.9043\n",
      "Epoch 77/100\n",
      "4348/4348 [==============================] - 0s 44us/step - loss: 0.1139 - accuracy: 0.9678 - val_loss: 0.6840 - val_accuracy: 0.8933\n",
      "Epoch 78/100\n",
      "4348/4348 [==============================] - 0s 46us/step - loss: 0.1474 - accuracy: 0.9609 - val_loss: 0.5776 - val_accuracy: 0.8997\n",
      "Epoch 79/100\n",
      "4348/4348 [==============================] - 0s 44us/step - loss: 0.1088 - accuracy: 0.9660 - val_loss: 0.6035 - val_accuracy: 0.8942\n",
      "Epoch 80/100\n",
      "4348/4348 [==============================] - 0s 46us/step - loss: 0.1082 - accuracy: 0.9660 - val_loss: 0.6326 - val_accuracy: 0.8979\n",
      "Epoch 81/100\n",
      "4348/4348 [==============================] - 0s 44us/step - loss: 0.1134 - accuracy: 0.9673 - val_loss: 0.5987 - val_accuracy: 0.8988\n",
      "Epoch 82/100\n",
      "4348/4348 [==============================] - 0s 45us/step - loss: 0.1330 - accuracy: 0.9664 - val_loss: 0.6357 - val_accuracy: 0.9034\n",
      "Epoch 83/100\n",
      "4348/4348 [==============================] - 0s 45us/step - loss: 0.1218 - accuracy: 0.9646 - val_loss: 0.6136 - val_accuracy: 0.9016\n",
      "Epoch 84/100\n",
      "4348/4348 [==============================] - 0s 43us/step - loss: 0.1204 - accuracy: 0.9639 - val_loss: 0.6237 - val_accuracy: 0.9025\n",
      "Epoch 85/100\n",
      "4348/4348 [==============================] - 0s 45us/step - loss: 0.1142 - accuracy: 0.9646 - val_loss: 0.6366 - val_accuracy: 0.8997\n",
      "Epoch 86/100\n",
      "4348/4348 [==============================] - 0s 45us/step - loss: 0.1294 - accuracy: 0.9625 - val_loss: 0.6626 - val_accuracy: 0.8997\n",
      "Epoch 87/100\n",
      "4348/4348 [==============================] - 0s 44us/step - loss: 0.1108 - accuracy: 0.9680 - val_loss: 0.6028 - val_accuracy: 0.9089\n",
      "Epoch 88/100\n",
      "4348/4348 [==============================] - 0s 46us/step - loss: 0.1136 - accuracy: 0.9650 - val_loss: 0.6308 - val_accuracy: 0.9016\n",
      "Epoch 89/100\n",
      "4348/4348 [==============================] - 0s 45us/step - loss: 0.1114 - accuracy: 0.9639 - val_loss: 0.6134 - val_accuracy: 0.9025\n",
      "Epoch 90/100\n",
      "4348/4348 [==============================] - 0s 45us/step - loss: 0.1347 - accuracy: 0.9621 - val_loss: 0.6255 - val_accuracy: 0.8988\n",
      "Epoch 91/100\n",
      "4348/4348 [==============================] - 0s 44us/step - loss: 0.1103 - accuracy: 0.9653 - val_loss: 0.6204 - val_accuracy: 0.8979\n",
      "Epoch 92/100\n",
      "4348/4348 [==============================] - 0s 45us/step - loss: 0.1115 - accuracy: 0.9703 - val_loss: 0.6061 - val_accuracy: 0.9016\n",
      "Epoch 93/100\n",
      "4348/4348 [==============================] - 0s 48us/step - loss: 0.1334 - accuracy: 0.9614 - val_loss: 0.5954 - val_accuracy: 0.8979\n",
      "Epoch 94/100\n",
      "4348/4348 [==============================] - 0s 45us/step - loss: 0.1339 - accuracy: 0.9604 - val_loss: 0.5765 - val_accuracy: 0.9006\n",
      "Epoch 95/100\n",
      "4348/4348 [==============================] - 0s 46us/step - loss: 0.1083 - accuracy: 0.9653 - val_loss: 0.5850 - val_accuracy: 0.9025\n",
      "Epoch 96/100\n",
      "4348/4348 [==============================] - 0s 46us/step - loss: 0.1129 - accuracy: 0.9683 - val_loss: 0.5744 - val_accuracy: 0.8988\n",
      "Epoch 97/100\n",
      "4348/4348 [==============================] - 0s 46us/step - loss: 0.1062 - accuracy: 0.9655 - val_loss: 0.5968 - val_accuracy: 0.9006\n",
      "Epoch 98/100\n",
      "4348/4348 [==============================] - 0s 47us/step - loss: 0.1092 - accuracy: 0.9690 - val_loss: 0.6582 - val_accuracy: 0.8988\n",
      "Epoch 99/100\n",
      "4348/4348 [==============================] - 0s 44us/step - loss: 0.1238 - accuracy: 0.9632 - val_loss: 0.5883 - val_accuracy: 0.9089\n",
      "Epoch 100/100\n",
      "4348/4348 [==============================] - 0s 46us/step - loss: 0.1237 - accuracy: 0.9650 - val_loss: 0.5947 - val_accuracy: 0.9126\n"
     ]
    }
   ],
   "source": [
    "baseline = model.fit(X, y, batch_size=32, epochs=100, validation_split=0.2)"
   ]
  },
  {
   "cell_type": "markdown",
   "metadata": {},
   "source": [
    "woohooo! \n",
    "\n",
    "Ok, now we have to tune the model.  First let's visualize the accuracy as epochs go on, to try select an optimum number of epochs. "
   ]
  },
  {
   "cell_type": "code",
   "execution_count": 330,
   "metadata": {},
   "outputs": [
    {
     "name": "stdout",
     "output_type": "stream",
     "text": [
      "dict_keys(['val_loss', 'val_accuracy', 'loss', 'accuracy'])\n"
     ]
    }
   ],
   "source": [
    "print(baseline.history.keys())"
   ]
  },
  {
   "cell_type": "code",
   "execution_count": 341,
   "metadata": {},
   "outputs": [
    {
     "data": {
      "image/png": "[encoded data removed]",
      "text/plain": [
       "<Figure size 432x288 with 1 Axes>"
      ]
     },
     "metadata": {
      "needs_background": "light"
     },
     "output_type": "display_data"
    },
    {
     "data": {
      "image/png": "[encoded data removed]",
      "text/plain": [
       "<Figure size 432x288 with 1 Axes>"
      ]
     },
     "metadata": {
      "needs_background": "light"
     },
     "output_type": "display_data"
    }
   ],
   "source": [
    "# summarize history for accuracy\n",
    "plt.plot(baseline.history['accuracy'])\n",
    "plt.plot(baseline.history['val_accuracy'])\n",
    "plt.title('model accuracy')\n",
    "plt.ylabel('accuracy')\n",
    "plt.xlabel('epoch')\n",
    "plt.legend(['train', 'test'], loc='upper left')\n",
    "plt.show()\n",
    "# summarize history for loss\n",
    "plt.plot(baseline.history['loss'])\n",
    "plt.plot(baseline.history['val_loss'])\n",
    "plt.title('model loss')\n",
    "plt.ylabel('loss')\n",
    "plt.xlabel('epoch')\n",
    "plt.legend(['train', 'test'], loc='upper left')\n",
    "plt.show()"
   ]
  },
  {
   "cell_type": "markdown",
   "metadata": {},
   "source": [
    "Next, prepare test data and predict"
   ]
  },
  {
   "cell_type": "code",
   "execution_count": null,
   "metadata": {},
   "outputs": [],
   "source": [
    "# repeat encoding procedure for the test data\n",
    "def parse_sound(row):\n",
    "\n",
    "    file_name = os.path.join('data/Test', str(row.ID) + '.wav')\n",
    "\n",
    "    try:\n",
    "        y, sample_rate = librosa.load(file_name, res_type='kaiser_fast') \n",
    "        mfccs = np.mean(librosa.feature.mfcc(y=y, sr=sample_rate, n_mfcc=40).T,axis=0) \n",
    "    except Exception as e:\n",
    "        print(\"Error while parsing file: \", file)\n",
    "        return None, None\n",
    "  \n",
    "    return mfccs\n",
    "\n",
    "y_audio, sample_rate = librosa.load(os.path.join('data/Train', '0.wav'))\n",
    "mfcc = np.mean(librosa.feature.mfcc(y=y_audio, sr=sample_rate, n_mfcc=40).T, axis=0)\n",
    "mfcc\n",
    "\n",
    "test['mfccs'] = test.apply(parse_sound, axis=1)"
   ]
  },
  {
   "cell_type": "code",
   "execution_count": 101,
   "metadata": {},
   "outputs": [
    {
     "data": {
      "text/html": [
       "<div>\n",
       "<style scoped>\n",
       "    .dataframe tbody tr th:only-of-type {\n",
       "        vertical-align: middle;\n",
       "    }\n",
       "\n",
       "    .dataframe tbody tr th {\n",
       "        vertical-align: top;\n",
       "    }\n",
       "\n",
       "    .dataframe thead th {\n",
       "        text-align: right;\n",
       "    }\n",
       "</style>\n",
       "<table border=\"1\" class=\"dataframe\">\n",
       "  <thead>\n",
       "    <tr style=\"text-align: right;\">\n",
       "      <th></th>\n",
       "      <th>ID</th>\n",
       "      <th>mfccs</th>\n",
       "    </tr>\n",
       "  </thead>\n",
       "  <tbody>\n",
       "    <tr>\n",
       "      <td>0</td>\n",
       "      <td>5</td>\n",
       "      <td>[-76.2993, 20.437246, -17.56602, 26.38778, -22...</td>\n",
       "    </tr>\n",
       "    <tr>\n",
       "      <td>1</td>\n",
       "      <td>7</td>\n",
       "      <td>[-375.73608, 149.91734, -21.467178, 14.365269,...</td>\n",
       "    </tr>\n",
       "    <tr>\n",
       "      <td>2</td>\n",
       "      <td>8</td>\n",
       "      <td>[-150.61726, -26.240969, -24.232021, 15.293082...</td>\n",
       "    </tr>\n",
       "    <tr>\n",
       "      <td>3</td>\n",
       "      <td>9</td>\n",
       "      <td>[-233.55365, 99.5192, -39.737137, 19.140862, -...</td>\n",
       "    </tr>\n",
       "    <tr>\n",
       "      <td>4</td>\n",
       "      <td>13</td>\n",
       "      <td>[-74.35853, 107.8869, -15.967571, 34.601448, -...</td>\n",
       "    </tr>\n",
       "    <tr>\n",
       "      <td>...</td>\n",
       "      <td>...</td>\n",
       "      <td>...</td>\n",
       "    </tr>\n",
       "    <tr>\n",
       "      <td>3292</td>\n",
       "      <td>8708</td>\n",
       "      <td>[-50.20128, 59.27453, -78.98673, -10.342589, -...</td>\n",
       "    </tr>\n",
       "    <tr>\n",
       "      <td>3293</td>\n",
       "      <td>8718</td>\n",
       "      <td>[-373.61032, 86.03685, -50.425705, 11.193534, ...</td>\n",
       "    </tr>\n",
       "    <tr>\n",
       "      <td>3294</td>\n",
       "      <td>8719</td>\n",
       "      <td>[-123.03433, 98.71788, -5.6134286, 37.629673, ...</td>\n",
       "    </tr>\n",
       "    <tr>\n",
       "      <td>3295</td>\n",
       "      <td>8730</td>\n",
       "      <td>[-201.69658, 93.59071, -80.860405, -15.039109,...</td>\n",
       "    </tr>\n",
       "    <tr>\n",
       "      <td>3296</td>\n",
       "      <td>8731</td>\n",
       "      <td>[-271.51474, 135.73033, -9.027784, 2.6885016, ...</td>\n",
       "    </tr>\n",
       "  </tbody>\n",
       "</table>\n",
       "<p>3297 rows × 2 columns</p>\n",
       "</div>"
      ],
      "text/plain": [
       "        ID                                              mfccs\n",
       "0        5  [-76.2993, 20.437246, -17.56602, 26.38778, -22...\n",
       "1        7  [-375.73608, 149.91734, -21.467178, 14.365269,...\n",
       "2        8  [-150.61726, -26.240969, -24.232021, 15.293082...\n",
       "3        9  [-233.55365, 99.5192, -39.737137, 19.140862, -...\n",
       "4       13  [-74.35853, 107.8869, -15.967571, 34.601448, -...\n",
       "...    ...                                                ...\n",
       "3292  8708  [-50.20128, 59.27453, -78.98673, -10.342589, -...\n",
       "3293  8718  [-373.61032, 86.03685, -50.425705, 11.193534, ...\n",
       "3294  8719  [-123.03433, 98.71788, -5.6134286, 37.629673, ...\n",
       "3295  8730  [-201.69658, 93.59071, -80.860405, -15.039109,...\n",
       "3296  8731  [-271.51474, 135.73033, -9.027784, 2.6885016, ...\n",
       "\n",
       "[3297 rows x 2 columns]"
      ]
     },
     "execution_count": 101,
     "metadata": {},
     "output_type": "execute_result"
    }
   ],
   "source": [
    "test"
   ]
  },
  {
   "cell_type": "code",
   "execution_count": null,
   "metadata": {},
   "outputs": [],
   "source": []
  }
 ],
 "metadata": {
  "kernelspec": {
   "display_name": "Python 3",
   "language": "python",
   "name": "python3"
  },
  "language_info": {
   "codemirror_mode": {
    "name": "ipython",
    "version": 3
   },
   "file_extension": ".py",
   "mimetype": "text/x-python",
   "name": "python",
   "nbconvert_exporter": "python",
   "pygments_lexer": "ipython3",
   "version": "3.7.4"
  }
 },
 "nbformat": 4,
 "nbformat_minor": 2
}
