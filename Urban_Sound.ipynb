{
 "cells": [
  {
   "cell_type": "markdown",
   "metadata": {},
   "source": [
    "I'm a bit of an audiophile, and wanted to try my hand at machine learning using a neural netwrok model. This common data science practice propblem uses a set of 4-second sound recordings that fall into ten catigories - jackhammer, children playing, gun shot, etc. The challenge is to train a model on a set of about 8,000 labeld sound files so that it can identify unlabeld sound files. I used the Librosa library in Python to extract frequency-based melodic eliments from the sound files, and then Keras/TensorFlow to make and train a neural network. I'm still refining the model by (A) evaluating and optomizing the hyperparamiters of the machine leanring model and (B) expiramenting with other data I can evaluate from the sound files.\n",
    "\n",
    "The challenge is to classify urban sounds from 4-second sound files. There are 10 possible classifications. The dataset provided includes 8729 training examples and 8731 unlabled sound files for testing. I like this problem because I'm a bit of an audiophile, and I want to try my hand at a neural network. \n",
    "\n",
    "I'll train a neural network to classify the sounds. First, I'll use the librosa library to load in the audio files and extract features (the different distinct frequencies in the audio file).  Then, I'll encode the labels using scikit-learn's LabelEncoder().  I'll use Keras to build model, keeping it as simple as possible for now (3 layers, using standard paramaters). Then I will evaluate the model using the test data set.   "
   ]
  },
  {
   "cell_type": "markdown",
   "metadata": {},
   "source": [
    "## Loading and encoding data. \n",
    "\n",
    "I'll use librosa (a python library for dealing with audio files) to load data from .wav files. It will also let me visualize and extract various kinds of data from the audio. "
   ]
  },
  {
   "cell_type": "code",
   "execution_count": 439,
   "metadata": {},
   "outputs": [],
   "source": [
    "import os\n",
    "import pandas as pd\n",
    "import numpy as np\n",
    "import matplotlib.pyplot as plt\n",
    "import librosa"
   ]
  },
  {
   "cell_type": "code",
   "execution_count": 434,
   "metadata": {},
   "outputs": [],
   "source": [
    "train = pd.read_csv('data/train.csv')\n",
    "test = pd.read_csv('data/test.csv')"
   ]
  },
  {
   "cell_type": "code",
   "execution_count": 435,
   "metadata": {},
   "outputs": [
    {
     "data": {
      "text/html": [
       "<div>\n",
       "<style scoped>\n",
       "    .dataframe tbody tr th:only-of-type {\n",
       "        vertical-align: middle;\n",
       "    }\n",
       "\n",
       "    .dataframe tbody tr th {\n",
       "        vertical-align: top;\n",
       "    }\n",
       "\n",
       "    .dataframe thead th {\n",
       "        text-align: right;\n",
       "    }\n",
       "</style>\n",
       "<table border=\"1\" class=\"dataframe\">\n",
       "  <thead>\n",
       "    <tr style=\"text-align: right;\">\n",
       "      <th></th>\n",
       "      <th>ID</th>\n",
       "      <th>Class</th>\n",
       "    </tr>\n",
       "  </thead>\n",
       "  <tbody>\n",
       "    <tr>\n",
       "      <td>0</td>\n",
       "      <td>0</td>\n",
       "      <td>siren</td>\n",
       "    </tr>\n",
       "    <tr>\n",
       "      <td>1</td>\n",
       "      <td>1</td>\n",
       "      <td>street_music</td>\n",
       "    </tr>\n",
       "    <tr>\n",
       "      <td>2</td>\n",
       "      <td>2</td>\n",
       "      <td>drilling</td>\n",
       "    </tr>\n",
       "    <tr>\n",
       "      <td>3</td>\n",
       "      <td>3</td>\n",
       "      <td>siren</td>\n",
       "    </tr>\n",
       "    <tr>\n",
       "      <td>4</td>\n",
       "      <td>4</td>\n",
       "      <td>dog_bark</td>\n",
       "    </tr>\n",
       "  </tbody>\n",
       "</table>\n",
       "</div>"
      ],
      "text/plain": [
       "   ID         Class\n",
       "0   0         siren\n",
       "1   1  street_music\n",
       "2   2      drilling\n",
       "3   3         siren\n",
       "4   4      dog_bark"
      ]
     },
     "execution_count": 435,
     "metadata": {},
     "output_type": "execute_result"
    }
   ],
   "source": [
    "train.head()"
   ]
  },
  {
   "cell_type": "code",
   "execution_count": 436,
   "metadata": {},
   "outputs": [
    {
     "data": {
      "text/plain": [
       "jackhammer          668\n",
       "engine_idling       624\n",
       "siren               607\n",
       "dog_bark            600\n",
       "street_music        600\n",
       "air_conditioner     600\n",
       "drilling            600\n",
       "children_playing    600\n",
       "car_horn            306\n",
       "gun_shot            230\n",
       "Name: Class, dtype: int64"
      ]
     },
     "execution_count": 436,
     "metadata": {},
     "output_type": "execute_result"
    }
   ],
   "source": [
    "train.Class.value_counts()"
   ]
  },
  {
   "cell_type": "markdown",
   "metadata": {},
   "source": [
    "We have about 600 examples of most sound types, about half that of car horn recordings, and about a third that of gun shots. "
   ]
  },
  {
   "cell_type": "markdown",
   "metadata": {},
   "source": [
    "Now we will load the audio files using librosa.  I'll define a function that will allow me to apply the data to a data frame with the IDs and labels. \n",
    "\n",
    "Some explanation of the choices for processing audio data: \n",
    "1. Setting res_type to kaiser_fast speeds up loading the data, at a loss of quality. \n",
    "2. MFCC stands for Mel-frequency cepstral coefficients, it is a technique for extrating features based on frequency from the raw adio data. \n",
    "3. librosa.load returns a matrix (technically an mumpy.ndarray of size (n_mfcc, T) where T denotes the track duration in frames)."
   ]
  },
  {
   "cell_type": "code",
   "execution_count": 437,
   "metadata": {},
   "outputs": [],
   "source": [
    "data_dir = 'data/Train'\n",
    "\n",
    "def parse_sound(row):\n",
    "\n",
    "    file_name = os.path.join(data_dir, str(row.ID) + '.wav')\n",
    "\n",
    "    try:\n",
    "        y_audio, sample_rate = librosa.load(file_name, res_type='kaiser_fast') \n",
    "        mfccs = np.mean(librosa.feature.mfcc(y=y_audio, sr=sample_rate, n_mfcc=40).T,axis=0) \n",
    "    except Exception as e:\n",
    "        print(\"Error while parsing file: \", file)\n",
    "        return None\n",
    "  \n",
    "    return mfccs"
   ]
  },
  {
   "cell_type": "markdown",
   "metadata": {},
   "source": [
    "I want to get a visual confirmation of what this function does.  So, "
   ]
  },
  {
   "cell_type": "code",
   "execution_count": 438,
   "metadata": {
    "scrolled": true
   },
   "outputs": [
    {
     "data": {
      "text/plain": [
       "array([-7.5095695e+01,  1.2961186e+02, -3.2669899e+01,  1.5285441e+01,\n",
       "       -2.3782072e+00,  1.4626383e+01, -3.7646337e+00,  1.7962053e+01,\n",
       "       -2.0119922e+00,  1.4395791e+01, -1.1574688e+00,  8.6595840e+00,\n",
       "       -3.7047443e+00,  3.3922620e+00, -6.3679357e+00,  8.1460260e-02,\n",
       "       -8.7272234e+00,  6.9419968e-01, -5.4218426e+00,  2.7331510e+00,\n",
       "       -1.5587350e+00,  1.5997877e+00, -2.7055860e+00,  4.3276987e+00,\n",
       "       -2.0708835e+00,  4.9955597e+00, -1.8933897e+00, -2.1113320e-01,\n",
       "       -4.2716827e+00,  1.5992585e+00, -3.1662819e+00,  1.9053738e+00,\n",
       "       -3.3244791e+00,  8.2804763e-01, -2.8830101e+00,  1.4041675e+00,\n",
       "       -1.0563265e+00,  1.2371618e+00, -4.3638902e+00,  7.2084457e-01],\n",
       "      dtype=float32)"
      ]
     },
     "execution_count": 438,
     "metadata": {},
     "output_type": "execute_result"
    }
   ],
   "source": [
    "y_audio, sample_rate = librosa.load(os.path.join('data/Train', '0.wav'))\n",
    "mfcc = np.mean(librosa.feature.mfcc(y=y_audio, sr=sample_rate, n_mfcc=40).T, axis=0)\n",
    "mfcc"
   ]
  },
  {
   "cell_type": "markdown",
   "metadata": {},
   "source": [
    "These outputs are numerical values for each feature (think of the raw audio as what you hear from a whole choir, and the features are the a representation of each singer's voice for a given time interval, here, 1/10 of a second. It's really pulling out sound waves at different frequencies). \n",
    "\n",
    "Numerical values are our input to the ML model! It's just like the numerical representation of light intensity of a given color in a given pixel, in the context of computer vision.  "
   ]
  },
  {
   "cell_type": "code",
   "execution_count": 452,
   "metadata": {},
   "outputs": [
    {
     "data": {
      "text/plain": [
       "Text(0.5, 1.0, 'Chromagram')"
      ]
     },
     "execution_count": 452,
     "metadata": {},
     "output_type": "execute_result"
    },
    {
     "data": {
      "image/png": "[encoded data removed]",
      "text/plain": [
       "<Figure size 720x288 with 2 Axes>"
      ]
     },
     "metadata": {
      "needs_background": "light"
     },
     "output_type": "display_data"
    }
   ],
   "source": [
    "#chromagram\n",
    "example_file = librosa.feature.chroma_cqt(y=y_audio, sr=sample_rate)\n",
    "plt.figure(figsize=(10,4))\n",
    "librosa.display.specshow(example_file, y_axis='chroma')\n",
    "plt.colorbar()\n",
    "plt.title('Chromagram')"
   ]
  },
  {
   "cell_type": "markdown",
   "metadata": {},
   "source": [
    "## Join the extracted feature data to the ID and label data. This takes a while... "
   ]
  },
  {
   "cell_type": "code",
   "execution_count": 186,
   "metadata": {},
   "outputs": [],
   "source": [
    "ttrain = train\n",
    "ttrain['mfccs'] = ttrain.apply(parse_sound, axis=1)"
   ]
  },
  {
   "cell_type": "code",
   "execution_count": 188,
   "metadata": {
    "scrolled": false
   },
   "outputs": [
    {
     "data": {
      "text/html": [
       "<div>\n",
       "<style scoped>\n",
       "    .dataframe tbody tr th:only-of-type {\n",
       "        vertical-align: middle;\n",
       "    }\n",
       "\n",
       "    .dataframe tbody tr th {\n",
       "        vertical-align: top;\n",
       "    }\n",
       "\n",
       "    .dataframe thead th {\n",
       "        text-align: right;\n",
       "    }\n",
       "</style>\n",
       "<table border=\"1\" class=\"dataframe\">\n",
       "  <thead>\n",
       "    <tr style=\"text-align: right;\">\n",
       "      <th></th>\n",
       "      <th>ID</th>\n",
       "      <th>Class</th>\n",
       "      <th>mfccs</th>\n",
       "    </tr>\n",
       "  </thead>\n",
       "  <tbody>\n",
       "    <tr>\n",
       "      <td>0</td>\n",
       "      <td>0</td>\n",
       "      <td>siren</td>\n",
       "      <td>[-82.12359, 139.50595, -42.430847, 24.82786, -...</td>\n",
       "    </tr>\n",
       "    <tr>\n",
       "      <td>1</td>\n",
       "      <td>1</td>\n",
       "      <td>street_music</td>\n",
       "      <td>[-15.744001, 124.11996, -29.42888, 39.44719, -...</td>\n",
       "    </tr>\n",
       "    <tr>\n",
       "      <td>2</td>\n",
       "      <td>2</td>\n",
       "      <td>drilling</td>\n",
       "      <td>[-123.393654, 15.181944, -50.093338, 7.141871,...</td>\n",
       "    </tr>\n",
       "    <tr>\n",
       "      <td>3</td>\n",
       "      <td>3</td>\n",
       "      <td>siren</td>\n",
       "      <td>[-213.2787, 89.323616, -55.256165, 12.632097, ...</td>\n",
       "    </tr>\n",
       "    <tr>\n",
       "      <td>4</td>\n",
       "      <td>4</td>\n",
       "      <td>dog_bark</td>\n",
       "      <td>[-237.9265, 135.90247, 39.26844, 21.24023, 9.5...</td>\n",
       "    </tr>\n",
       "  </tbody>\n",
       "</table>\n",
       "</div>"
      ],
      "text/plain": [
       "   ID         Class                                              mfccs\n",
       "0   0         siren  [-82.12359, 139.50595, -42.430847, 24.82786, -...\n",
       "1   1  street_music  [-15.744001, 124.11996, -29.42888, 39.44719, -...\n",
       "2   2      drilling  [-123.393654, 15.181944, -50.093338, 7.141871,...\n",
       "3   3         siren  [-213.2787, 89.323616, -55.256165, 12.632097, ...\n",
       "4   4      dog_bark  [-237.9265, 135.90247, 39.26844, 21.24023, 9.5..."
      ]
     },
     "execution_count": 188,
     "metadata": {},
     "output_type": "execute_result"
    }
   ],
   "source": [
    "ttrain = ttrain[['ID', 'Class', 'mfccs']]\n",
    "ttrain.head()"
   ]
  },
  {
   "cell_type": "markdown",
   "metadata": {},
   "source": [
    "unresolved question: are these normally distributed? do they need normalization? do they need regularization? --adress this in next version"
   ]
  },
  {
   "cell_type": "code",
   "execution_count": 100,
   "metadata": {},
   "outputs": [],
   "source": []
  },
  {
   "cell_type": "markdown",
   "metadata": {},
   "source": [
    "Set the mfcc data to X, labels to y, test mfcc data to test_X.  One-hot encode labels using LebelBinarizer. "
   ]
  },
  {
   "cell_type": "code",
   "execution_count": 395,
   "metadata": {},
   "outputs": [
    {
     "name": "stdout",
     "output_type": "stream",
     "text": [
      "y shape:  (5435, 10)\n",
      "y classes detected:  ['air_conditioner' 'car_horn' 'children_playing' 'dog_bark' 'drilling'\n",
      " 'engine_idling' 'gun_shot' 'jackhammer' 'siren' 'street_music']\n",
      "[[0 0 0 0 0 0 0 0 1 0]\n",
      " [0 0 0 0 0 0 0 0 0 1]\n",
      " [0 0 0 0 1 0 0 0 0 0]\n",
      " [0 0 0 0 0 0 0 0 1 0]\n",
      " [0 0 0 1 0 0 0 0 0 0]]\n"
     ]
    }
   ],
   "source": [
    "from sklearn import preprocessing\n",
    "\n",
    "X = np.array(ttrain['mfccs'])\n",
    "# turns out I have to convert this from an array of objects to an array of arrays to have the right shape\n",
    "X = np.vstack(X)\n",
    "y = np.array(ttrain['Class'])\n",
    "\n",
    "# encode labels as numbers\n",
    "lb = preprocessing.LabelBinarizer()\n",
    "y = lb.fit_transform(y)\n",
    "classes = lb.classes_\n",
    "\n",
    "print('y shape: ', y.shape)\n",
    "print('y classes detected: ', classes)\n",
    "print(y[0:5])"
   ]
  },
  {
   "cell_type": "markdown",
   "metadata": {},
   "source": [
    "## construct a neural network model\n",
    "\n",
    "Notes on hyperparameter choice:\n",
    "1. 4 layers, one input, two hidden, one output. \n",
    "2. Input layer shape is 40 because thre are 40 mel-frequency cepstral coeficients, one for each tenth of a second, in each sound file.  Output layer shape is 10 because there are 10 possible labels (i've one-hot encoded the values).  The hidden layers are set to 100 at start because it seems like a good number? (a next step is to grid search for optimum hyperparameters). \n",
    "3. Activation = relu in the first two layers, Activation = softmax for output layer because thats what we need for multi-class classification.  All outputs sum to 1. \n",
    "4. Set dropout to 0.2 at start\n",
    "5. optimizer Adam seems to have good results in the literature. Learning rate defaults to 0.001, which seems good to start. I understand it (roughly) as stochastic gradient desent + a stochastic element based on "
   ]
  },
  {
   "cell_type": "code",
   "execution_count": 371,
   "metadata": {},
   "outputs": [],
   "source": [
    "from keras.models import Sequential\n",
    "from keras.layers import Dense, Dropout, Activation, Flatten\n",
    "from keras.layers import Convolution2D, MaxPooling2D\n",
    "from keras.optimizers import Adam\n",
    "from keras.utils import np_utils\n",
    "from sklearn import metrics \n",
    "\n",
    "# build model\n",
    "model = Sequential()\n",
    "\n",
    "model.add(Dense(100, input_dim=40))\n",
    "model.add(Activation('relu'))\n",
    "model.add(Dropout(0.2))\n",
    "\n",
    "model.add(Dense(100))\n",
    "model.add(Activation('relu'))\n",
    "model.add(Dropout(0.2))\n",
    "\n",
    "model.add(Dense(10))\n",
    "model.add(Activation('softmax'))\n",
    "\n",
    "model.compile(loss='categorical_crossentropy', metrics=['accuracy'], optimizer='adam')"
   ]
  },
  {
   "cell_type": "code",
   "execution_count": 454,
   "metadata": {
    "scrolled": true
   },
   "outputs": [],
   "source": [
    "baseline = model.fit(X, y, batch_size=32, epochs=100, validation_split=0.2, verbose=0)"
   ]
  },
  {
   "cell_type": "markdown",
   "metadata": {},
   "source": [
    "woohooo! \n",
    "\n",
    "Ok, now we have to tune the model.  First let's visualize the accuracy as epochs go on, to try select an optimum number of epochs. \n",
    "\n",
    "## Visualize model accuracy and loss"
   ]
  },
  {
   "cell_type": "code",
   "execution_count": 330,
   "metadata": {},
   "outputs": [
    {
     "name": "stdout",
     "output_type": "stream",
     "text": [
      "dict_keys(['val_loss', 'val_accuracy', 'loss', 'accuracy'])\n"
     ]
    }
   ],
   "source": [
    "print(baseline.history.keys())"
   ]
  },
  {
   "cell_type": "code",
   "execution_count": 343,
   "metadata": {},
   "outputs": [
    {
     "data": {
      "image/png": "[encoded data removed]",
      "text/plain": [
       "<Figure size 432x288 with 1 Axes>"
      ]
     },
     "metadata": {
      "needs_background": "light"
     },
     "output_type": "display_data"
    },
    {
     "data": {
      "image/png": "[encoded data removed]",
      "text/plain": [
       "<Figure size 432x288 with 1 Axes>"
      ]
     },
     "metadata": {
      "needs_background": "light"
     },
     "output_type": "display_data"
    }
   ],
   "source": [
    "# summarize history for accuracy\n",
    "plt.plot(baseline.history['accuracy'])\n",
    "plt.plot(baseline.history['val_accuracy'])\n",
    "plt.title('model accuracy')\n",
    "plt.ylabel('accuracy')\n",
    "plt.xlabel('epoch')\n",
    "plt.legend(['train', 'test'], loc='upper left')\n",
    "plt.show()\n",
    "# summarize history for loss\n",
    "plt.plot(baseline.history['loss'])\n",
    "plt.plot(baseline.history['val_loss'])\n",
    "plt.title('model loss')\n",
    "plt.ylabel('loss')\n",
    "plt.xlabel('epoch')\n",
    "plt.legend(['train', 'test'], loc='upper left')\n",
    "plt.show()"
   ]
  },
  {
   "cell_type": "markdown",
   "metadata": {},
   "source": [
    "## train the model on full train data set"
   ]
  },
  {
   "cell_type": "code",
   "execution_count": 460,
   "metadata": {},
   "outputs": [
    {
     "name": "stdout",
     "output_type": "stream",
     "text": [
      "X (input) shape is (5435, 40)\n",
      "y (output) shape is (5435, 10)\n"
     ]
    }
   ],
   "source": [
    "print('X (input) shape is', X.shape)\n",
    "print('y (output) shape is', y.shape)"
   ]
  },
  {
   "cell_type": "code",
   "execution_count": 373,
   "metadata": {},
   "outputs": [
    {
     "data": {
      "text/plain": [
       "<keras.callbacks.callbacks.History at 0x1c3d3bd150>"
      ]
     },
     "execution_count": 373,
     "metadata": {},
     "output_type": "execute_result"
    }
   ],
   "source": [
    "batch_size = 32\n",
    "epochs = 100\n",
    "\n",
    "model.fit(X, y, batch_size=batch_size, epochs=epochs, verbose=1)"
   ]
  },
  {
   "cell_type": "markdown",
   "metadata": {},
   "source": [
    "## prepare test data and use the model to predict vatigories for unlabeld sounds"
   ]
  },
  {
   "cell_type": "code",
   "execution_count": 363,
   "metadata": {},
   "outputs": [
    {
     "name": "stdout",
     "output_type": "stream",
     "text": [
      "[-6.75352783e+01  8.07635403e+00 -5.35095453e+00  1.44126701e+01\n",
      " -1.11191607e+01  5.43501139e+00 -9.60642529e+00  2.59298396e+00\n",
      " -4.13223124e+00 -9.50844228e-01 -8.45531368e+00  7.76937962e+00\n",
      " -1.68982372e+01  8.16501236e+00 -1.45517244e+01  3.60345149e+00\n",
      " -3.01672565e-03 -4.77612346e-01  9.34465027e+00 -1.60270405e+00\n",
      "  6.43012285e+00  3.36061549e+00 -3.41992784e+00  7.55481195e+00\n",
      " -1.75253022e+00  6.01754618e+00  1.03648686e+00  4.11750031e+00\n",
      "  4.52184629e+00  9.01627362e-01  1.13913074e-01  4.38824701e+00\n",
      " -3.81073308e+00  3.50917459e+00 -9.53719854e-01  8.82968903e-01\n",
      " -4.26967955e+00  1.09390020e+00 -5.27148342e+00  4.58460331e+00]\n"
     ]
    }
   ],
   "source": [
    "# repeat encoding procedure for the test data\n",
    "data_dir = 'data/Test'\n",
    "\n",
    "# and run on full test data set\n",
    "test['mfccs'] = test.apply(parse_sound, axis=1)"
   ]
  },
  {
   "cell_type": "code",
   "execution_count": 364,
   "metadata": {},
   "outputs": [
    {
     "data": {
      "text/html": [
       "<div>\n",
       "<style scoped>\n",
       "    .dataframe tbody tr th:only-of-type {\n",
       "        vertical-align: middle;\n",
       "    }\n",
       "\n",
       "    .dataframe tbody tr th {\n",
       "        vertical-align: top;\n",
       "    }\n",
       "\n",
       "    .dataframe thead th {\n",
       "        text-align: right;\n",
       "    }\n",
       "</style>\n",
       "<table border=\"1\" class=\"dataframe\">\n",
       "  <thead>\n",
       "    <tr style=\"text-align: right;\">\n",
       "      <th></th>\n",
       "      <th>ID</th>\n",
       "      <th>mfccs</th>\n",
       "    </tr>\n",
       "  </thead>\n",
       "  <tbody>\n",
       "    <tr>\n",
       "      <td>0</td>\n",
       "      <td>5</td>\n",
       "      <td>[-76.2993, 20.437246, -17.56602, 26.38778, -22...</td>\n",
       "    </tr>\n",
       "    <tr>\n",
       "      <td>1</td>\n",
       "      <td>7</td>\n",
       "      <td>[-375.73608, 149.91734, -21.467178, 14.365269,...</td>\n",
       "    </tr>\n",
       "    <tr>\n",
       "      <td>2</td>\n",
       "      <td>8</td>\n",
       "      <td>[-150.61726, -26.240969, -24.232021, 15.293082...</td>\n",
       "    </tr>\n",
       "    <tr>\n",
       "      <td>3</td>\n",
       "      <td>9</td>\n",
       "      <td>[-233.55365, 99.5192, -39.737137, 19.140862, -...</td>\n",
       "    </tr>\n",
       "    <tr>\n",
       "      <td>4</td>\n",
       "      <td>13</td>\n",
       "      <td>[-74.35853, 107.8869, -15.967571, 34.601448, -...</td>\n",
       "    </tr>\n",
       "  </tbody>\n",
       "</table>\n",
       "</div>"
      ],
      "text/plain": [
       "   ID                                              mfccs\n",
       "0   5  [-76.2993, 20.437246, -17.56602, 26.38778, -22...\n",
       "1   7  [-375.73608, 149.91734, -21.467178, 14.365269,...\n",
       "2   8  [-150.61726, -26.240969, -24.232021, 15.293082...\n",
       "3   9  [-233.55365, 99.5192, -39.737137, 19.140862, -...\n",
       "4  13  [-74.35853, 107.8869, -15.967571, 34.601448, -..."
      ]
     },
     "execution_count": 364,
     "metadata": {},
     "output_type": "execute_result"
    }
   ],
   "source": [
    "test.head()"
   ]
  },
  {
   "cell_type": "code",
   "execution_count": 389,
   "metadata": {},
   "outputs": [
    {
     "name": "stdout",
     "output_type": "stream",
     "text": [
      "(3297, 40)\n",
      "[-76.2993      20.437246   -17.56602     26.38778    -22.764183\n",
      "  16.670277   -20.356016    12.797763   -13.740049     8.0202055\n",
      " -16.762907    15.398877   -23.84557     14.435516   -20.161507\n",
      "   8.576482    -4.370316     3.3193154    6.0789685    1.1731479\n",
      "   4.1006446    5.286643    -4.9847617    8.799       -2.7138798\n",
      "   6.731223     0.53810346   4.429794     4.368757     0.9185511\n",
      "   0.21240382   4.192507    -3.5331564    3.1633296   -0.5510365\n",
      "   0.43360052  -3.782264     0.5759767   -4.7288184    4.023563  ]\n"
     ]
    }
   ],
   "source": [
    "X_test = np.array(test['mfccs'])\n",
    "# convert this from an array of objects to an array of arrays to have the right shape\n",
    "X_test = np.vstack(X_test)\n",
    "print(X_test.shape)\n",
    "print(X_test[0])"
   ]
  },
  {
   "cell_type": "code",
   "execution_count": 410,
   "metadata": {
    "scrolled": true
   },
   "outputs": [
    {
     "name": "stdout",
     "output_type": "stream",
     "text": [
      "3297/3297 [==============================] - 0s 13us/step\n"
     ]
    }
   ],
   "source": [
    "preds = model.predict_classes(X_test, verbose=1)"
   ]
  },
  {
   "cell_type": "code",
   "execution_count": 426,
   "metadata": {},
   "outputs": [],
   "source": [
    "predicted_classes = []\n",
    "for pred in preds:\n",
    "    predicted_classes.append(classes[pred])\n",
    "\n",
    "test['Class'] = predicted_classes"
   ]
  },
  {
   "cell_type": "code",
   "execution_count": 427,
   "metadata": {},
   "outputs": [],
   "source": [
    "submission = test[['Class', 'ID']]\n",
    "\n",
    "submission.to_csv('sub01.csv', index=False)"
   ]
  },
  {
   "cell_type": "markdown",
   "metadata": {},
   "source": [
    "## Results\n",
    "\n",
    "My first submission returned about a 0.6 accuracy -- ok but not great (random is around 0.1, and the leaderboard has some scores over 0.9). This is a work in progress...\n",
    "\n",
    "## Next steps\n",
    "\n",
    "- try adding other charateristics of the audio - amplitude-based metrics could plausably help distinguish between kids playing and a jackhammer, for example \n",
    "- optimize hyperparamiters using grid search"
   ]
  }
 ],
 "metadata": {
  "kernelspec": {
   "display_name": "Python 3",
   "language": "python",
   "name": "python3"
  },
  "language_info": {
   "codemirror_mode": {
    "name": "ipython",
    "version": 3
   },
   "file_extension": ".py",
   "mimetype": "text/x-python",
   "name": "python",
   "nbconvert_exporter": "python",
   "pygments_lexer": "ipython3",
   "version": "3.7.4"
  }
 },
 "nbformat": 4,
 "nbformat_minor": 2
}
